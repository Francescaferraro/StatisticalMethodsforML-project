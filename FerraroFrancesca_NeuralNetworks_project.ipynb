{
 "cells": [
  {
   "cell_type": "code",
   "execution_count": 29,
   "metadata": {
    "id": "c7JQ8LaGI6og"
   },
   "outputs": [],
   "source": [
    "import os\n",
    "import zipfile\n",
    "import glob\n",
    "import pandas as pd\n",
    "from PIL import Image\n",
    "import random\n",
    "import tensorflow as tf\n",
    "from tensorflow import keras\n",
    "from keras import layers\n",
    "import numpy as np\n",
    "from keras.applications import VGG16, MobileNet, ResNet50\n",
    "from keras.layers import Dense, GlobalAveragePooling2D, BatchNormalization, Activation\n",
    "from keras.models import Model\n",
    "from keras.optimizers import Adam\n",
    "from sklearn.model_selection import KFold\n",
    "import matplotlib.pyplot as plt"
   ]
  },
  {
   "cell_type": "markdown",
   "metadata": {
    "id": "_l0oCI-DR4tK"
   },
   "source": [
    "# Dataset loading"
   ]
  },
  {
   "cell_type": "code",
   "execution_count": 3,
   "metadata": {
    "colab": {
     "base_uri": "https://localhost:8080/"
    },
    "id": "h9WhwInMI4m5",
    "outputId": "72dfdd50-c3c2-4bcd-b63f-700134312b16"
   },
   "outputs": [
    {
     "name": "stdout",
     "output_type": "stream",
     "text": [
      "muffin-vs-chihuahua-image-classification.zip: Skipping, found more recently modified local copy (use --force to force download)\n"
     ]
    }
   ],
   "source": [
    "# Set up Kaggle API Key\n",
    "os.environ['KAGGLE_USERNAME'] = \"XXXXXX\"\n",
    "os.environ['KAGGLE_KEY'] = \"XXXXXX\"\n",
    "\n",
    "# Download the dataset\n",
    "!kaggle datasets download -d samuelcortinhas/muffin-vs-chihuahua-image-classification\n",
    "\n",
    "# Unzip the dataset\n",
    "with zipfile.ZipFile(\"muffin-vs-chihuahua-image-classification.zip\", \"r\") as zip_ref:\n",
    "    zip_ref.extractall(\".\")"
   ]
  },
  {
   "cell_type": "markdown",
   "metadata": {
    "id": "M14eqwWQSBmR"
   },
   "source": [
    "# Data preprocessing"
   ]
  },
  {
   "cell_type": "markdown",
   "metadata": {
    "id": "iyr1JDFlfw6f"
   },
   "source": [
    "### Reshape the images and convert to RGB"
   ]
  },
  {
   "cell_type": "code",
   "execution_count": 4,
   "metadata": {
    "colab": {
     "base_uri": "https://localhost:8080/"
    },
    "id": "7-GMhmfqPEZj",
    "outputId": "eb30c6f5-a27c-413a-bc4b-2c921d3762aa"
   },
   "outputs": [
    {
     "name": "stdout",
     "output_type": "stream",
     "text": [
      "                                                  image      label\n",
      "0     <PIL.Image.Image image mode=RGB size=224x224 a...     muffin\n",
      "1     <PIL.Image.Image image mode=RGB size=224x224 a...     muffin\n",
      "2     <PIL.Image.Image image mode=RGB size=224x224 a...     muffin\n",
      "3     <PIL.Image.Image image mode=RGB size=224x224 a...     muffin\n",
      "4     <PIL.Image.Image image mode=RGB size=224x224 a...     muffin\n",
      "...                                                 ...        ...\n",
      "4728  <PIL.Image.Image image mode=RGB size=224x224 a...  chihuahua\n",
      "4729  <PIL.Image.Image image mode=RGB size=224x224 a...  chihuahua\n",
      "4730  <PIL.Image.Image image mode=RGB size=224x224 a...  chihuahua\n",
      "4731  <PIL.Image.Image image mode=RGB size=224x224 a...  chihuahua\n",
      "4732  <PIL.Image.Image image mode=RGB size=224x224 a...  chihuahua\n",
      "\n",
      "[4733 rows x 2 columns]\n",
      "                                                  image      label\n",
      "0     <PIL.Image.Image image mode=RGB size=224x224 a...     muffin\n",
      "1     <PIL.Image.Image image mode=RGB size=224x224 a...     muffin\n",
      "2     <PIL.Image.Image image mode=RGB size=224x224 a...     muffin\n",
      "3     <PIL.Image.Image image mode=RGB size=224x224 a...     muffin\n",
      "4     <PIL.Image.Image image mode=RGB size=224x224 a...     muffin\n",
      "...                                                 ...        ...\n",
      "1179  <PIL.Image.Image image mode=RGB size=224x224 a...  chihuahua\n",
      "1180  <PIL.Image.Image image mode=RGB size=224x224 a...  chihuahua\n",
      "1181  <PIL.Image.Image image mode=RGB size=224x224 a...  chihuahua\n",
      "1182  <PIL.Image.Image image mode=RGB size=224x224 a...  chihuahua\n",
      "1183  <PIL.Image.Image image mode=RGB size=224x224 a...  chihuahua\n",
      "\n",
      "[1184 rows x 2 columns]\n"
     ]
    }
   ],
   "source": [
    "def load_images(image_dir, img_size):\n",
    "    images = []\n",
    "    for image_path in os.listdir(image_dir):\n",
    "        img = Image.open(os.path.join(image_dir, image_path)).convert('RGB')  # Convert to RGB\n",
    "        img_resized = img.resize((img_size, img_size))\n",
    "        images.append(img_resized)\n",
    "    return images\n",
    "\n",
    "\n",
    "train_dir = 'train'\n",
    "test_dir = 'test'\n",
    "img_size = 224\n",
    "\n",
    "# Load images\n",
    "train_muffin_images = load_images(os.path.join(train_dir, 'muffin'), img_size)\n",
    "train_chihuahua_images = load_images(os.path.join(train_dir, 'chihuahua'), img_size)\n",
    "test_muffin_images = load_images(os.path.join(test_dir, 'muffin'), img_size)\n",
    "test_chihuahua_images = load_images(os.path.join(test_dir, 'chihuahua'), img_size)\n",
    "\n",
    "\n",
    "# Create DataFrames for train and test sets\n",
    "train_data = {'image': train_muffin_images + train_chihuahua_images, 'label': ['muffin'] * len(train_muffin_images) + ['chihuahua'] * len(train_chihuahua_images)}\n",
    "train_df = pd.DataFrame(train_data)\n",
    "\n",
    "test_data = {'image': test_muffin_images + test_chihuahua_images, 'label': ['muffin'] * len(test_muffin_images) + ['chihuahua'] * len(test_chihuahua_images)}\n",
    "test_df = pd.DataFrame(test_data)\n",
    "\n",
    "# Print the DataFrames\n",
    "print(train_df)\n",
    "print(test_df)"
   ]
  },
  {
   "cell_type": "markdown",
   "metadata": {
    "id": "E3hOFjIfeFGj"
   },
   "source": [
    "### Convert the images into np arrays"
   ]
  },
  {
   "cell_type": "code",
   "execution_count": 5,
   "metadata": {
    "id": "Ygo1HfQdertx"
   },
   "outputs": [],
   "source": [
    "def images_to_arrays(images):\n",
    "    return np.stack([np.array(img) for img in images])\n",
    "\n",
    "# vertical concatenatenation of arrays along the first axis\n",
    "X_train = np.vstack((images_to_arrays(train_muffin_images), images_to_arrays(train_chihuahua_images)))\n",
    "X_test = np.vstack((images_to_arrays(test_muffin_images), images_to_arrays(test_chihuahua_images)))\n",
    "\n",
    "y_train = np.array([0] * len(train_muffin_images) + [1] * len(train_chihuahua_images))\n",
    "y_test = np.array([0] * len(test_muffin_images) + [1] * len(test_chihuahua_images))\n",
    "\n",
    "# Normalize the pixel values\n",
    "X_train = X_train.astype('float32') / 255\n",
    "X_test = X_test.astype('float32') / 255"
   ]
  },
  {
   "cell_type": "markdown",
   "metadata": {
    "id": "oKcfnT6Yaiub"
   },
   "source": [
    "# Network architectures"
   ]
  },
  {
   "cell_type": "markdown",
   "metadata": {
    "id": "1s_Jtj8-_tsB"
   },
   "source": [
    "## Training the model with 5-Fold CV"
   ]
  },
  {
   "cell_type": "markdown",
   "metadata": {
    "id": "NswvFaiWIEpC"
   },
   "source": [
    "During the model.fit() both loss and accuracy for the training and for the validation set are computed, in order to monitoring the possible cases of overfitting. If the loss value decreases while the val_loss value starts to increase, it may indicate that the model is overfitting to the training set and is not generalizing well to new data."
   ]
  },
  {
   "cell_type": "markdown",
   "metadata": {},
   "source": [
    "### General model creation and training"
   ]
  },
  {
   "cell_type": "code",
   "execution_count": 6,
   "metadata": {
    "colab": {
     "background_save": true,
     "base_uri": "https://localhost:8080/"
    },
    "id": "uxS5h2ccWF4E",
    "outputId": "89180ec5-dac6-433e-b3f5-8b950012d11a"
   },
   "outputs": [],
   "source": [
    "def create_model(base_model):\n",
    "    for layer in base_model.layers: #transfer learning\n",
    "        layer.trainable = False\n",
    "    x = base_model.output\n",
    "    x = GlobalAveragePooling2D()(x) #reduces the spatial dimensions of the output\n",
    "    x = Dense(1024)(x) \n",
    "    x = BatchNormalization()(x) #tries to make the process faster\n",
    "    x = Activation('relu')(x) #introduces non-linearity\n",
    "    predictions = Dense(1, activation='sigmoid')(x) #produces the binary classification output\n",
    "    model = Model(inputs=base_model.input, outputs=predictions)\n",
    "    return model"
   ]
  },
  {
   "cell_type": "code",
   "execution_count": 7,
   "metadata": {
    "id": "GJCpivGC-pYn"
   },
   "outputs": [],
   "source": [
    "def train_and_evaluate_model(create_model, learning_rate, epochs, batch_size) : #these hyperparameters will be changed for experimenting\n",
    "    # KFold cross-validation\n",
    "    num_folds = 5\n",
    "    kfold = KFold(n_splits=num_folds, shuffle=True, random_state=42)\n",
    "\n",
    "    fold_scores = []\n",
    "    fold_accuracies = []\n",
    "\n",
    "    for train_index, val_index in kfold.split(X_train):\n",
    "        X_train_fold, X_val = X_train[train_index], X_train[val_index]\n",
    "        y_train_fold, y_val = y_train[train_index], y_train[val_index]\n",
    "\n",
    "        # Create and compile the model\n",
    "        model = create_model\n",
    "        model.compile(optimizer=Adam(learning_rate=learning_rate), loss='binary_crossentropy', metrics=['accuracy'])\n",
    "\n",
    "        # Train the model on the current fold\n",
    "        history = model.fit(X_train_fold, y_train_fold, epochs=epochs, batch_size=batch_size, validation_data=(X_val, y_val))\n",
    "\n",
    "        # Evaluate the model on the test set and store the performance metric (using zero-one loss as required)\n",
    "        y_pred = model.predict(X_test)\n",
    "        y_pred = np.round(y_pred)\n",
    "        zero_one_loss = 1 - np.mean(y_pred.flatten() == y_test)\n",
    "        fold_scores.append(zero_one_loss)\n",
    "        fold_accuracies.append(np.mean(history.history['val_accuracy']))\n",
    "\n",
    "    average_zero_one_loss = np.mean(fold_scores)\n",
    "    average_accuracy = np.mean(fold_accuracies)\n",
    "    print(f\"Average zero-one loss across {num_folds} folds: {average_zero_one_loss}\")\n",
    "    print(f\"Average accuracy across {num_folds} folds: {average_accuracy}\")\n",
    "\n",
    "    return average_zero_one_loss, average_accuracy"
   ]
  },
  {
   "cell_type": "markdown",
   "metadata": {
    "id": "bS7O_cKsgoHm"
   },
   "source": [
    "### VGG16"
   ]
  },
  {
   "cell_type": "code",
   "execution_count": 63,
   "metadata": {},
   "outputs": [],
   "source": [
    "base_vgg_model = VGG16(weights='imagenet', include_top=False, input_shape=(img_size, img_size, 3))"
   ]
  },
  {
   "cell_type": "code",
   "execution_count": 65,
   "metadata": {
    "scrolled": true
   },
   "outputs": [
    {
     "name": "stdout",
     "output_type": "stream",
     "text": [
      "Epoch 1/4\n",
      "474/474 [==============================] - 386s 813ms/step - loss: 0.2101 - accuracy: 0.9218 - val_loss: 0.1063 - val_accuracy: 0.9620\n",
      "Epoch 2/4\n",
      "474/474 [==============================] - 377s 796ms/step - loss: 0.1422 - accuracy: 0.9480 - val_loss: 0.0547 - val_accuracy: 0.9820\n",
      "Epoch 3/4\n",
      "474/474 [==============================] - 372s 785ms/step - loss: 0.1087 - accuracy: 0.9609 - val_loss: 1.0950 - val_accuracy: 0.6822\n",
      "Epoch 4/4\n",
      "474/474 [==============================] - 373s 788ms/step - loss: 0.1295 - accuracy: 0.9501 - val_loss: 0.0569 - val_accuracy: 0.9789\n",
      "37/37 [==============================] - 91s 2s/step\n",
      "Epoch 1/4\n",
      "474/474 [==============================] - 388s 804ms/step - loss: 0.1252 - accuracy: 0.9517 - val_loss: 0.0492 - val_accuracy: 0.9831\n",
      "Epoch 2/4\n",
      "474/474 [==============================] - 535s 1s/step - loss: 0.1062 - accuracy: 0.9614 - val_loss: 0.0728 - val_accuracy: 0.9704\n",
      "Epoch 3/4\n",
      "474/474 [==============================] - 477s 1s/step - loss: 0.0919 - accuracy: 0.9654 - val_loss: 0.0385 - val_accuracy: 0.9884\n",
      "Epoch 4/4\n",
      "474/474 [==============================] - 394s 831ms/step - loss: 0.1024 - accuracy: 0.9630 - val_loss: 0.0445 - val_accuracy: 0.9831\n",
      "37/37 [==============================] - 92s 2s/step\n",
      "Epoch 1/4\n",
      "474/474 [==============================] - 392s 827ms/step - loss: 0.0861 - accuracy: 0.9709 - val_loss: 0.0444 - val_accuracy: 0.9831\n",
      "Epoch 2/4\n",
      "474/474 [==============================] - 394s 832ms/step - loss: 0.1098 - accuracy: 0.9630 - val_loss: 0.0273 - val_accuracy: 0.9916\n",
      "Epoch 3/4\n",
      "474/474 [==============================] - 392s 827ms/step - loss: 0.0848 - accuracy: 0.9683 - val_loss: 0.0462 - val_accuracy: 0.9810\n",
      "Epoch 4/4\n",
      "474/474 [==============================] - 390s 824ms/step - loss: 0.0843 - accuracy: 0.9709 - val_loss: 0.0285 - val_accuracy: 0.9894\n",
      "37/37 [==============================] - 92s 2s/step\n",
      "Epoch 1/4\n",
      "474/474 [==============================] - 384s 808ms/step - loss: 0.1006 - accuracy: 0.9646 - val_loss: 0.0130 - val_accuracy: 0.9989\n",
      "Epoch 2/4\n",
      "474/474 [==============================] - 386s 814ms/step - loss: 0.0852 - accuracy: 0.9717 - val_loss: 0.0342 - val_accuracy: 0.9884\n",
      "Epoch 3/4\n",
      "474/474 [==============================] - 392s 828ms/step - loss: 0.0543 - accuracy: 0.9828 - val_loss: 0.1523 - val_accuracy: 0.9355\n",
      "Epoch 4/4\n",
      "474/474 [==============================] - 387s 818ms/step - loss: 0.0635 - accuracy: 0.9778 - val_loss: 0.0133 - val_accuracy: 0.9979\n",
      "37/37 [==============================] - 93s 3s/step\n",
      "Epoch 1/4\n",
      "474/474 [==============================] - 392s 826ms/step - loss: 0.0790 - accuracy: 0.9704 - val_loss: 0.0177 - val_accuracy: 0.9937\n",
      "Epoch 2/4\n",
      "474/474 [==============================] - 391s 825ms/step - loss: 0.0899 - accuracy: 0.9710 - val_loss: 0.0363 - val_accuracy: 0.9884\n",
      "Epoch 3/4\n",
      "474/474 [==============================] - 392s 828ms/step - loss: 0.0603 - accuracy: 0.9783 - val_loss: 0.0153 - val_accuracy: 0.9968\n",
      "Epoch 4/4\n",
      "474/474 [==============================] - 389s 820ms/step - loss: 0.0730 - accuracy: 0.9741 - val_loss: 0.0151 - val_accuracy: 0.9947\n",
      "37/37 [==============================] - 92s 2s/step\n",
      "Average zero-one loss across 5 folds: 0.022466216216216205\n",
      "Average accuracy across 5 folds: 0.9684738248586655\n"
     ]
    }
   ],
   "source": [
    "vgg_loss_1, vgg_accuracy_1 = train_and_evaluate_model(create_model(base_vgg_model), learning_rate=0.001, epochs=4, batch_size=8)"
   ]
  },
  {
   "cell_type": "code",
   "execution_count": 66,
   "metadata": {},
   "outputs": [
    {
     "name": "stdout",
     "output_type": "stream",
     "text": [
      "Epoch 1/8\n",
      "237/237 [==============================] - 378s 2s/step - loss: 0.1752 - accuracy: 0.9250 - val_loss: 0.2093 - val_accuracy: 0.9694\n",
      "Epoch 2/8\n",
      "237/237 [==============================] - 373s 2s/step - loss: 0.0995 - accuracy: 0.9638 - val_loss: 0.0733 - val_accuracy: 0.9831\n",
      "Epoch 3/8\n",
      "237/237 [==============================] - 373s 2s/step - loss: 0.0808 - accuracy: 0.9731 - val_loss: 0.0511 - val_accuracy: 0.9863\n",
      "Epoch 4/8\n",
      "237/237 [==============================] - 377s 2s/step - loss: 0.0652 - accuracy: 0.9781 - val_loss: 0.0556 - val_accuracy: 0.9831\n",
      "Epoch 5/8\n",
      "237/237 [==============================] - 443s 2s/step - loss: 0.0575 - accuracy: 0.9834 - val_loss: 0.0558 - val_accuracy: 0.9820\n",
      "Epoch 6/8\n",
      "237/237 [==============================] - 389s 2s/step - loss: 0.0569 - accuracy: 0.9786 - val_loss: 0.0430 - val_accuracy: 0.9873\n",
      "Epoch 7/8\n",
      "237/237 [==============================] - 391s 2s/step - loss: 0.0438 - accuracy: 0.9865 - val_loss: 0.0504 - val_accuracy: 0.9810\n",
      "Epoch 8/8\n",
      "237/237 [==============================] - 392s 2s/step - loss: 0.0461 - accuracy: 0.9842 - val_loss: 0.0416 - val_accuracy: 0.9884\n",
      "37/37 [==============================] - 96s 3s/step\n",
      "Epoch 1/8\n",
      "237/237 [==============================] - 395s 2s/step - loss: 0.0538 - accuracy: 0.9805 - val_loss: 0.0163 - val_accuracy: 0.9989\n",
      "Epoch 2/8\n",
      "237/237 [==============================] - 399s 2s/step - loss: 0.0420 - accuracy: 0.9865 - val_loss: 0.0133 - val_accuracy: 0.9968\n",
      "Epoch 3/8\n",
      "237/237 [==============================] - 388s 2s/step - loss: 0.0362 - accuracy: 0.9886 - val_loss: 0.0113 - val_accuracy: 0.9979\n",
      "Epoch 4/8\n",
      "237/237 [==============================] - 390s 2s/step - loss: 0.0400 - accuracy: 0.9852 - val_loss: 0.0168 - val_accuracy: 0.9947\n",
      "Epoch 5/8\n",
      "237/237 [==============================] - 390s 2s/step - loss: 0.0331 - accuracy: 0.9918 - val_loss: 0.0155 - val_accuracy: 0.9958\n",
      "Epoch 6/8\n",
      "237/237 [==============================] - 386s 2s/step - loss: 0.0313 - accuracy: 0.9894 - val_loss: 0.0148 - val_accuracy: 0.9926\n",
      "Epoch 7/8\n",
      "237/237 [==============================] - 387s 2s/step - loss: 0.0264 - accuracy: 0.9923 - val_loss: 0.0231 - val_accuracy: 0.9894\n",
      "Epoch 8/8\n",
      "237/237 [==============================] - 388s 2s/step - loss: 0.0346 - accuracy: 0.9910 - val_loss: 0.0203 - val_accuracy: 0.9926\n",
      "37/37 [==============================] - 95s 3s/step\n",
      "Epoch 1/8\n",
      "237/237 [==============================] - 390s 2s/step - loss: 0.0336 - accuracy: 0.9894 - val_loss: 0.0070 - val_accuracy: 0.9989\n",
      "Epoch 2/8\n",
      "237/237 [==============================] - 389s 2s/step - loss: 0.0250 - accuracy: 0.9929 - val_loss: 0.0055 - val_accuracy: 1.0000\n",
      "Epoch 3/8\n",
      "237/237 [==============================] - 393s 2s/step - loss: 0.0229 - accuracy: 0.9931 - val_loss: 0.0122 - val_accuracy: 0.9968\n",
      "Epoch 4/8\n",
      "237/237 [==============================] - 388s 2s/step - loss: 0.0248 - accuracy: 0.9931 - val_loss: 0.0063 - val_accuracy: 1.0000\n",
      "Epoch 5/8\n",
      "237/237 [==============================] - 389s 2s/step - loss: 0.0151 - accuracy: 0.9955 - val_loss: 0.0045 - val_accuracy: 1.0000\n",
      "Epoch 6/8\n",
      "237/237 [==============================] - 392s 2s/step - loss: 0.0126 - accuracy: 0.9982 - val_loss: 0.0325 - val_accuracy: 0.9916\n",
      "Epoch 7/8\n",
      "237/237 [==============================] - 388s 2s/step - loss: 0.0149 - accuracy: 0.9968 - val_loss: 0.0085 - val_accuracy: 0.9979\n",
      "Epoch 8/8\n",
      "237/237 [==============================] - 387s 2s/step - loss: 0.0166 - accuracy: 0.9952 - val_loss: 0.0091 - val_accuracy: 0.9979\n",
      "37/37 [==============================] - 95s 3s/step\n",
      "Epoch 1/8\n",
      "237/237 [==============================] - 390s 2s/step - loss: 0.0178 - accuracy: 0.9945 - val_loss: 0.0021 - val_accuracy: 1.0000\n",
      "Epoch 2/8\n",
      "237/237 [==============================] - 391s 2s/step - loss: 0.0156 - accuracy: 0.9958 - val_loss: 0.0012 - val_accuracy: 1.0000\n",
      "Epoch 3/8\n",
      "237/237 [==============================] - 389s 2s/step - loss: 0.0191 - accuracy: 0.9952 - val_loss: 0.0017 - val_accuracy: 1.0000\n",
      "Epoch 4/8\n",
      "237/237 [==============================] - 391s 2s/step - loss: 0.0116 - accuracy: 0.9971 - val_loss: 0.0015 - val_accuracy: 1.0000\n",
      "Epoch 5/8\n",
      "237/237 [==============================] - 389s 2s/step - loss: 0.0137 - accuracy: 0.9960 - val_loss: 0.0030 - val_accuracy: 1.0000\n",
      "Epoch 6/8\n",
      "237/237 [==============================] - 372s 2s/step - loss: 0.0123 - accuracy: 0.9963 - val_loss: 0.0033 - val_accuracy: 1.0000\n",
      "Epoch 7/8\n",
      "237/237 [==============================] - 367s 2s/step - loss: 0.0072 - accuracy: 0.9984 - val_loss: 0.0013 - val_accuracy: 1.0000\n",
      "Epoch 8/8\n",
      "237/237 [==============================] - 364s 2s/step - loss: 0.0098 - accuracy: 0.9982 - val_loss: 0.0034 - val_accuracy: 1.0000\n",
      "37/37 [==============================] - 90s 2s/step\n",
      "Epoch 1/8\n",
      "237/237 [==============================] - 374s 2s/step - loss: 0.0118 - accuracy: 0.9976 - val_loss: 0.0011 - val_accuracy: 1.0000\n",
      "Epoch 2/8\n",
      "237/237 [==============================] - 374s 2s/step - loss: 0.0159 - accuracy: 0.9937 - val_loss: 0.0017 - val_accuracy: 1.0000\n",
      "Epoch 3/8\n",
      "237/237 [==============================] - 370s 2s/step - loss: 0.0092 - accuracy: 0.9979 - val_loss: 0.0033 - val_accuracy: 0.9989\n",
      "Epoch 4/8\n",
      "237/237 [==============================] - 368s 2s/step - loss: 0.0099 - accuracy: 0.9963 - val_loss: 0.0015 - val_accuracy: 1.0000\n",
      "Epoch 5/8\n",
      "237/237 [==============================] - 460s 2s/step - loss: 0.0074 - accuracy: 0.9984 - val_loss: 0.0012 - val_accuracy: 1.0000\n",
      "Epoch 6/8\n",
      "237/237 [==============================] - 518s 2s/step - loss: 0.0154 - accuracy: 0.9958 - val_loss: 0.0015 - val_accuracy: 1.0000\n",
      "Epoch 7/8\n",
      "237/237 [==============================] - 29545s 125s/step - loss: 0.0086 - accuracy: 0.9976 - val_loss: 0.0016 - val_accuracy: 1.0000\n",
      "Epoch 8/8\n",
      "237/237 [==============================] - 375s 2s/step - loss: 0.0117 - accuracy: 0.9971 - val_loss: 0.0015 - val_accuracy: 1.0000\n",
      "37/37 [==============================] - 91s 2s/step\n",
      "Average zero-one loss across 5 folds: 0.0153716216216216\n",
      "Average accuracy across 5 folds: 0.9950369313359261\n"
     ]
    }
   ],
   "source": [
    "vgg_loss_2, vgg_accuracy_2 = train_and_evaluate_model(create_model(base_vgg_model), learning_rate=0.0001, epochs=8, batch_size=16)"
   ]
  },
  {
   "cell_type": "code",
   "execution_count": 11,
   "metadata": {},
   "outputs": [],
   "source": [
    "best_vgg_accuracy = max(vgg_accuracy_1, vgg_accuracy_2)\n",
    "best_vgg_loss = min(vgg_loss_1, vgg_loss_2)"
   ]
  },
  {
   "cell_type": "markdown",
   "metadata": {
    "id": "f3VmVYtng4r2"
   },
   "source": [
    "### MobileNet"
   ]
  },
  {
   "cell_type": "code",
   "execution_count": 9,
   "metadata": {
    "id": "l7op88gFau_D"
   },
   "outputs": [],
   "source": [
    "base_mobilenet_model = MobileNet(weights='imagenet', include_top=False, input_shape=(img_size, img_size, 3))"
   ]
  },
  {
   "cell_type": "code",
   "execution_count": 69,
   "metadata": {
    "scrolled": true
   },
   "outputs": [
    {
     "name": "stdout",
     "output_type": "stream",
     "text": [
      "Epoch 1/4\n",
      "474/474 [==============================] - 38s 77ms/step - loss: 0.1193 - accuracy: 0.9643 - val_loss: 0.0390 - val_accuracy: 0.9905\n",
      "Epoch 2/4\n",
      "474/474 [==============================] - 37s 79ms/step - loss: 0.0676 - accuracy: 0.9775 - val_loss: 0.0280 - val_accuracy: 0.9905\n",
      "Epoch 3/4\n",
      "474/474 [==============================] - 36s 76ms/step - loss: 0.0643 - accuracy: 0.9789 - val_loss: 0.0304 - val_accuracy: 0.9884\n",
      "Epoch 4/4\n",
      "474/474 [==============================] - 36s 76ms/step - loss: 0.0540 - accuracy: 0.9836 - val_loss: 0.0349 - val_accuracy: 0.9863\n",
      "37/37 [==============================] - 7s 189ms/step\n",
      "Epoch 1/4\n",
      "474/474 [==============================] - 41s 84ms/step - loss: 0.0494 - accuracy: 0.9844 - val_loss: 0.0068 - val_accuracy: 0.9989\n",
      "Epoch 2/4\n",
      "474/474 [==============================] - 37s 78ms/step - loss: 0.0524 - accuracy: 0.9855 - val_loss: 0.0071 - val_accuracy: 0.9979\n",
      "Epoch 3/4\n",
      "474/474 [==============================] - 36s 76ms/step - loss: 0.0562 - accuracy: 0.9820 - val_loss: 0.0125 - val_accuracy: 0.9968\n",
      "Epoch 4/4\n",
      "474/474 [==============================] - 36s 76ms/step - loss: 0.0469 - accuracy: 0.9868 - val_loss: 0.0104 - val_accuracy: 0.9979\n",
      "37/37 [==============================] - 8s 214ms/step\n",
      "Epoch 1/4\n",
      "474/474 [==============================] - 38s 78ms/step - loss: 0.0412 - accuracy: 0.9863 - val_loss: 0.0014 - val_accuracy: 1.0000\n",
      "Epoch 2/4\n",
      "474/474 [==============================] - 37s 77ms/step - loss: 0.0468 - accuracy: 0.9865 - val_loss: 0.0036 - val_accuracy: 0.9989\n",
      "Epoch 3/4\n",
      "474/474 [==============================] - 37s 77ms/step - loss: 0.0203 - accuracy: 0.9942 - val_loss: 0.0031 - val_accuracy: 0.9989\n",
      "Epoch 4/4\n",
      "474/474 [==============================] - 37s 77ms/step - loss: 0.0600 - accuracy: 0.9857 - val_loss: 0.0031 - val_accuracy: 0.9979\n",
      "37/37 [==============================] - 9s 222ms/step\n",
      "Epoch 1/4\n",
      "474/474 [==============================] - 42s 79ms/step - loss: 0.0407 - accuracy: 0.9873 - val_loss: 7.4211e-04 - val_accuracy: 1.0000\n",
      "Epoch 2/4\n",
      "474/474 [==============================] - 36s 77ms/step - loss: 0.0295 - accuracy: 0.9894 - val_loss: 9.9695e-04 - val_accuracy: 1.0000\n",
      "Epoch 3/4\n",
      "474/474 [==============================] - 36s 77ms/step - loss: 0.0340 - accuracy: 0.9892 - val_loss: 8.5007e-04 - val_accuracy: 1.0000\n",
      "Epoch 4/4\n",
      "474/474 [==============================] - 36s 76ms/step - loss: 0.0182 - accuracy: 0.9966 - val_loss: 4.4098e-04 - val_accuracy: 1.0000\n",
      "37/37 [==============================] - 8s 194ms/step\n",
      "Epoch 1/4\n",
      "474/474 [==============================] - 38s 78ms/step - loss: 0.0346 - accuracy: 0.9897 - val_loss: 5.4846e-04 - val_accuracy: 1.0000\n",
      "Epoch 2/4\n",
      "474/474 [==============================] - 36s 77ms/step - loss: 0.0338 - accuracy: 0.9918 - val_loss: 7.1879e-04 - val_accuracy: 1.0000\n",
      "Epoch 3/4\n",
      "474/474 [==============================] - 36s 76ms/step - loss: 0.0124 - accuracy: 0.9968 - val_loss: 2.5484e-04 - val_accuracy: 1.0000\n",
      "Epoch 4/4\n",
      "474/474 [==============================] - 37s 77ms/step - loss: 0.0240 - accuracy: 0.9931 - val_loss: 8.6872e-04 - val_accuracy: 1.0000\n",
      "37/37 [==============================] - 7s 189ms/step\n",
      "Average zero-one loss across 5 folds: 0.002195945945945965\n",
      "Average accuracy across 5 folds: 0.9971488922834396\n"
     ]
    }
   ],
   "source": [
    "mobilenet_loss_1, mobilenet_accuracy_1 = train_and_evaluate_model(create_model(base_mobilenet_model), learning_rate=0.001, epochs=4, batch_size=8)"
   ]
  },
  {
   "cell_type": "code",
   "execution_count": 10,
   "metadata": {},
   "outputs": [
    {
     "name": "stdout",
     "output_type": "stream",
     "text": [
      "Epoch 1/8\n",
      "237/237 [==============================] - 33s 133ms/step - loss: 0.0751 - accuracy: 0.9749 - val_loss: 0.0303 - val_accuracy: 0.9894\n",
      "Epoch 2/8\n",
      "237/237 [==============================] - 31s 132ms/step - loss: 0.0294 - accuracy: 0.9902 - val_loss: 0.0210 - val_accuracy: 0.9916\n",
      "Epoch 3/8\n",
      "237/237 [==============================] - 31s 133ms/step - loss: 0.0179 - accuracy: 0.9947 - val_loss: 0.0200 - val_accuracy: 0.9926\n",
      "Epoch 4/8\n",
      "237/237 [==============================] - 32s 133ms/step - loss: 0.0153 - accuracy: 0.9955 - val_loss: 0.0243 - val_accuracy: 0.9937\n",
      "Epoch 5/8\n",
      "237/237 [==============================] - 31s 133ms/step - loss: 0.0128 - accuracy: 0.9971 - val_loss: 0.0194 - val_accuracy: 0.9937\n",
      "Epoch 6/8\n",
      "237/237 [==============================] - 32s 136ms/step - loss: 0.0101 - accuracy: 0.9971 - val_loss: 0.0185 - val_accuracy: 0.9916\n",
      "Epoch 7/8\n",
      "237/237 [==============================] - 32s 135ms/step - loss: 0.0111 - accuracy: 0.9968 - val_loss: 0.0238 - val_accuracy: 0.9905\n",
      "Epoch 8/8\n",
      "237/237 [==============================] - 31s 133ms/step - loss: 0.0068 - accuracy: 0.9976 - val_loss: 0.0195 - val_accuracy: 0.9937\n",
      "37/37 [==============================] - 8s 199ms/step\n",
      "Epoch 1/8\n",
      "237/237 [==============================] - 33s 135ms/step - loss: 0.0115 - accuracy: 0.9971 - val_loss: 2.3706e-04 - val_accuracy: 1.0000\n",
      "Epoch 2/8\n",
      "237/237 [==============================] - 31s 129ms/step - loss: 0.0105 - accuracy: 0.9963 - val_loss: 4.8711e-04 - val_accuracy: 1.0000\n",
      "Epoch 3/8\n",
      "237/237 [==============================] - 31s 132ms/step - loss: 0.0076 - accuracy: 0.9976 - val_loss: 6.6176e-04 - val_accuracy: 1.0000\n",
      "Epoch 4/8\n",
      "237/237 [==============================] - 33s 141ms/step - loss: 0.0086 - accuracy: 0.9966 - val_loss: 8.5243e-04 - val_accuracy: 1.0000\n",
      "Epoch 5/8\n",
      "237/237 [==============================] - 31s 131ms/step - loss: 0.0085 - accuracy: 0.9974 - val_loss: 6.6611e-04 - val_accuracy: 1.0000\n",
      "Epoch 6/8\n",
      "237/237 [==============================] - 31s 129ms/step - loss: 0.0047 - accuracy: 0.9992 - val_loss: 7.5004e-04 - val_accuracy: 1.0000\n",
      "Epoch 7/8\n",
      "237/237 [==============================] - 32s 134ms/step - loss: 0.0082 - accuracy: 0.9966 - val_loss: 0.0016 - val_accuracy: 0.9989\n",
      "Epoch 8/8\n",
      "237/237 [==============================] - 31s 131ms/step - loss: 0.0036 - accuracy: 0.9995 - val_loss: 5.3545e-04 - val_accuracy: 1.0000\n",
      "37/37 [==============================] - 8s 203ms/step\n",
      "Epoch 1/8\n",
      "237/237 [==============================] - 38s 145ms/step - loss: 0.0047 - accuracy: 0.9984 - val_loss: 7.2716e-05 - val_accuracy: 1.0000\n",
      "Epoch 2/8\n",
      "237/237 [==============================] - 33s 138ms/step - loss: 0.0036 - accuracy: 0.9992 - val_loss: 8.7761e-05 - val_accuracy: 1.0000\n",
      "Epoch 3/8\n",
      "237/237 [==============================] - 32s 137ms/step - loss: 0.0069 - accuracy: 0.9974 - val_loss: 1.7167e-04 - val_accuracy: 1.0000\n",
      "Epoch 4/8\n",
      "237/237 [==============================] - 32s 135ms/step - loss: 0.0031 - accuracy: 0.9992 - val_loss: 9.5842e-05 - val_accuracy: 1.0000\n",
      "Epoch 5/8\n",
      "237/237 [==============================] - 32s 134ms/step - loss: 0.0054 - accuracy: 0.9982 - val_loss: 1.9490e-04 - val_accuracy: 1.0000\n",
      "Epoch 6/8\n",
      "237/237 [==============================] - 32s 134ms/step - loss: 0.0048 - accuracy: 0.9989 - val_loss: 1.6662e-04 - val_accuracy: 1.0000\n",
      "Epoch 7/8\n",
      "237/237 [==============================] - 32s 133ms/step - loss: 0.0042 - accuracy: 0.9989 - val_loss: 2.6483e-04 - val_accuracy: 1.0000\n",
      "Epoch 8/8\n",
      "237/237 [==============================] - 33s 137ms/step - loss: 0.0024 - accuracy: 0.9997 - val_loss: 1.2693e-04 - val_accuracy: 1.0000\n",
      "37/37 [==============================] - 9s 225ms/step\n",
      "Epoch 1/8\n",
      "237/237 [==============================] - 34s 138ms/step - loss: 0.0034 - accuracy: 0.9989 - val_loss: 1.5461e-05 - val_accuracy: 1.0000\n",
      "Epoch 2/8\n",
      "237/237 [==============================] - 32s 133ms/step - loss: 0.0084 - accuracy: 0.9960 - val_loss: 5.6404e-05 - val_accuracy: 1.0000\n",
      "Epoch 3/8\n",
      "237/237 [==============================] - 31s 130ms/step - loss: 0.0013 - accuracy: 0.9997 - val_loss: 1.4803e-05 - val_accuracy: 1.0000\n",
      "Epoch 4/8\n",
      "237/237 [==============================] - 32s 134ms/step - loss: 0.0013 - accuracy: 1.0000 - val_loss: 1.3401e-05 - val_accuracy: 1.0000\n",
      "Epoch 5/8\n",
      "237/237 [==============================] - 32s 135ms/step - loss: 0.0026 - accuracy: 0.9989 - val_loss: 2.2389e-05 - val_accuracy: 1.0000\n",
      "Epoch 6/8\n",
      "237/237 [==============================] - 32s 133ms/step - loss: 0.0024 - accuracy: 0.9995 - val_loss: 2.3774e-05 - val_accuracy: 1.0000\n",
      "Epoch 7/8\n",
      "237/237 [==============================] - 32s 134ms/step - loss: 0.0026 - accuracy: 0.9997 - val_loss: 1.0080e-05 - val_accuracy: 1.0000\n",
      "Epoch 8/8\n",
      "237/237 [==============================] - 31s 133ms/step - loss: 0.0027 - accuracy: 0.9992 - val_loss: 1.7923e-05 - val_accuracy: 1.0000\n",
      "37/37 [==============================] - 8s 196ms/step\n",
      "Epoch 1/8\n",
      "237/237 [==============================] - 33s 136ms/step - loss: 0.0024 - accuracy: 0.9995 - val_loss: 3.4179e-05 - val_accuracy: 1.0000\n",
      "Epoch 2/8\n",
      "237/237 [==============================] - 32s 134ms/step - loss: 0.0039 - accuracy: 0.9984 - val_loss: 1.5276e-05 - val_accuracy: 1.0000\n",
      "Epoch 3/8\n",
      "237/237 [==============================] - 33s 137ms/step - loss: 0.0022 - accuracy: 0.9992 - val_loss: 4.3465e-05 - val_accuracy: 1.0000\n",
      "Epoch 4/8\n",
      "237/237 [==============================] - 31s 130ms/step - loss: 0.0015 - accuracy: 1.0000 - val_loss: 1.7152e-05 - val_accuracy: 1.0000\n",
      "Epoch 5/8\n",
      "237/237 [==============================] - 31s 132ms/step - loss: 9.5195e-04 - accuracy: 0.9997 - val_loss: 1.9698e-05 - val_accuracy: 1.0000\n",
      "Epoch 6/8\n",
      "237/237 [==============================] - 31s 132ms/step - loss: 0.0010 - accuracy: 0.9997 - val_loss: 1.0599e-05 - val_accuracy: 1.0000\n",
      "Epoch 7/8\n",
      "237/237 [==============================] - 32s 137ms/step - loss: 0.0012 - accuracy: 0.9992 - val_loss: 3.4496e-05 - val_accuracy: 1.0000\n",
      "Epoch 8/8\n",
      "237/237 [==============================] - 31s 130ms/step - loss: 0.0014 - accuracy: 0.9997 - val_loss: 1.5452e-05 - val_accuracy: 1.0000\n",
      "37/37 [==============================] - 7s 182ms/step\n",
      "Average zero-one loss across 5 folds: 0.002195945945945921\n",
      "Average accuracy across 5 folds: 0.9983896523714065\n"
     ]
    }
   ],
   "source": [
    "mobilenet_loss_2, mobilenet_accuracy_2 = train_and_evaluate_model(create_model(base_mobilenet_model), learning_rate=0.0001, epochs=8, batch_size=16)"
   ]
  },
  {
   "cell_type": "code",
   "execution_count": 12,
   "metadata": {},
   "outputs": [],
   "source": [
    "best_mobilenet_accuracy = max(mobilenet_accuracy_1, mobilenet_accuracy_2)\n",
    "best_mobilenet_loss = min(mobilenet_loss_1, mobilenet_loss_2)"
   ]
  },
  {
   "cell_type": "markdown",
   "metadata": {
    "id": "C4VX3pAVg684"
   },
   "source": [
    "### ResNet50"
   ]
  },
  {
   "cell_type": "code",
   "execution_count": 13,
   "metadata": {
    "id": "-_7gcdCTa2dn"
   },
   "outputs": [],
   "source": [
    "base_resnet_model = ResNet50(weights='imagenet', include_top=False, input_shape=(img_size, img_size, 3))"
   ]
  },
  {
   "cell_type": "code",
   "execution_count": 14,
   "metadata": {
    "scrolled": true
   },
   "outputs": [
    {
     "name": "stdout",
     "output_type": "stream",
     "text": [
      "Epoch 1/4\n",
      "474/474 [==============================] - 169s 351ms/step - loss: 0.5140 - accuracy: 0.7768 - val_loss: 3.9518 - val_accuracy: 0.4636\n",
      "Epoch 2/4\n",
      "474/474 [==============================] - 164s 345ms/step - loss: 0.4428 - accuracy: 0.8043 - val_loss: 1.4141 - val_accuracy: 0.5639\n",
      "Epoch 3/4\n",
      "474/474 [==============================] - 171s 361ms/step - loss: 0.4159 - accuracy: 0.8154 - val_loss: 0.5577 - val_accuracy: 0.8015\n",
      "Epoch 4/4\n",
      "474/474 [==============================] - 170s 359ms/step - loss: 0.3791 - accuracy: 0.8315 - val_loss: 0.4124 - val_accuracy: 0.7994\n",
      "37/37 [==============================] - 36s 960ms/step\n",
      "Epoch 1/4\n",
      "474/474 [==============================] - 165s 343ms/step - loss: 0.4097 - accuracy: 0.8222 - val_loss: 2.2881 - val_accuracy: 0.4857\n",
      "Epoch 2/4\n",
      "474/474 [==============================] - 159s 336ms/step - loss: 0.3894 - accuracy: 0.8230 - val_loss: 0.3807 - val_accuracy: 0.8585\n",
      "Epoch 3/4\n",
      "474/474 [==============================] - 162s 341ms/step - loss: 0.3838 - accuracy: 0.8347 - val_loss: 0.5755 - val_accuracy: 0.6843\n",
      "Epoch 4/4\n",
      "474/474 [==============================] - 161s 340ms/step - loss: 0.3746 - accuracy: 0.8397 - val_loss: 0.3107 - val_accuracy: 0.8786\n",
      "37/37 [==============================] - 34s 905ms/step\n",
      "Epoch 1/4\n",
      "474/474 [==============================] - 168s 349ms/step - loss: 0.3564 - accuracy: 0.8457 - val_loss: 0.4053 - val_accuracy: 0.8310\n",
      "Epoch 2/4\n",
      "474/474 [==============================] - 163s 343ms/step - loss: 0.3408 - accuracy: 0.8463 - val_loss: 0.3932 - val_accuracy: 0.8501\n",
      "Epoch 3/4\n",
      "474/474 [==============================] - 165s 349ms/step - loss: 0.3199 - accuracy: 0.8624 - val_loss: 1.5248 - val_accuracy: 0.5787\n",
      "Epoch 4/4\n",
      "474/474 [==============================] - 162s 342ms/step - loss: 0.3402 - accuracy: 0.8550 - val_loss: 1.6808 - val_accuracy: 0.5776\n",
      "37/37 [==============================] - 36s 945ms/step\n",
      "Epoch 1/4\n",
      "474/474 [==============================] - 166s 345ms/step - loss: 0.3226 - accuracy: 0.8616 - val_loss: 0.7591 - val_accuracy: 0.7220\n",
      "Epoch 2/4\n",
      "474/474 [==============================] - 156s 329ms/step - loss: 0.3175 - accuracy: 0.8608 - val_loss: 0.9758 - val_accuracy: 0.6533\n",
      "Epoch 3/4\n",
      "474/474 [==============================] - 157s 331ms/step - loss: 0.3367 - accuracy: 0.8600 - val_loss: 0.4959 - val_accuracy: 0.7315\n",
      "Epoch 4/4\n",
      "474/474 [==============================] - 157s 330ms/step - loss: 0.3001 - accuracy: 0.8666 - val_loss: 0.6226 - val_accuracy: 0.6977\n",
      "37/37 [==============================] - 34s 903ms/step\n",
      "Epoch 1/4\n",
      "474/474 [==============================] - 165s 344ms/step - loss: 0.3243 - accuracy: 0.8656 - val_loss: 0.3238 - val_accuracy: 0.8679\n",
      "Epoch 2/4\n",
      "474/474 [==============================] - 162s 342ms/step - loss: 0.2930 - accuracy: 0.8746 - val_loss: 0.3978 - val_accuracy: 0.8161\n",
      "Epoch 3/4\n",
      "474/474 [==============================] - 162s 343ms/step - loss: 0.2989 - accuracy: 0.8783 - val_loss: 0.4336 - val_accuracy: 0.7886\n",
      "Epoch 4/4\n",
      "474/474 [==============================] - 162s 341ms/step - loss: 0.2772 - accuracy: 0.8883 - val_loss: 0.4304 - val_accuracy: 0.7780\n",
      "37/37 [==============================] - 36s 944ms/step\n",
      "Average zero-one loss across 5 folds: 0.266722972972973\n",
      "Average accuracy across 5 folds: 0.7213862106204033\n"
     ]
    }
   ],
   "source": [
    "resnet_loss_1, resnet_accuracy_1 = train_and_evaluate_model(create_model(base_resnet_model), learning_rate=0.001, epochs=4, batch_size=8)"
   ]
  },
  {
   "cell_type": "code",
   "execution_count": 15,
   "metadata": {},
   "outputs": [
    {
     "name": "stdout",
     "output_type": "stream",
     "text": [
      "Epoch 1/8\n",
      "237/237 [==============================] - 163s 675ms/step - loss: 0.4460 - accuracy: 0.7987 - val_loss: 0.6333 - val_accuracy: 0.5533\n",
      "Epoch 2/8\n",
      "237/237 [==============================] - 155s 653ms/step - loss: 0.3594 - accuracy: 0.8447 - val_loss: 0.5017 - val_accuracy: 0.7666\n",
      "Epoch 3/8\n",
      "237/237 [==============================] - 150s 633ms/step - loss: 0.3280 - accuracy: 0.8568 - val_loss: 0.7815 - val_accuracy: 0.6410\n",
      "Epoch 4/8\n",
      "237/237 [==============================] - 154s 649ms/step - loss: 0.3036 - accuracy: 0.8719 - val_loss: 0.3985 - val_accuracy: 0.8237\n",
      "Epoch 5/8\n",
      "237/237 [==============================] - 153s 647ms/step - loss: 0.2880 - accuracy: 0.8825 - val_loss: 0.5200 - val_accuracy: 0.7835\n",
      "Epoch 6/8\n",
      "237/237 [==============================] - 153s 647ms/step - loss: 0.2728 - accuracy: 0.8872 - val_loss: 2.0171 - val_accuracy: 0.4815\n",
      "Epoch 7/8\n",
      "237/237 [==============================] - 156s 657ms/step - loss: 0.2632 - accuracy: 0.8941 - val_loss: 0.6548 - val_accuracy: 0.7497\n",
      "Epoch 8/8\n",
      "237/237 [==============================] - 152s 640ms/step - loss: 0.2477 - accuracy: 0.9015 - val_loss: 0.4001 - val_accuracy: 0.8321\n",
      "37/37 [==============================] - 36s 937ms/step\n",
      "Epoch 1/8\n",
      "237/237 [==============================] - 153s 637ms/step - loss: 0.2677 - accuracy: 0.8893 - val_loss: 0.3864 - val_accuracy: 0.8310\n",
      "Epoch 2/8\n",
      "237/237 [==============================] - 147s 622ms/step - loss: 0.2473 - accuracy: 0.9028 - val_loss: 0.2326 - val_accuracy: 0.9029\n",
      "Epoch 3/8\n",
      "237/237 [==============================] - 147s 619ms/step - loss: 0.2475 - accuracy: 0.9020 - val_loss: 1.0640 - val_accuracy: 0.6621\n",
      "Epoch 4/8\n",
      "237/237 [==============================] - 149s 629ms/step - loss: 0.2297 - accuracy: 0.9107 - val_loss: 0.5807 - val_accuracy: 0.7149\n",
      "Epoch 5/8\n",
      "237/237 [==============================] - 148s 624ms/step - loss: 0.2289 - accuracy: 0.9091 - val_loss: 0.3474 - val_accuracy: 0.8405\n",
      "Epoch 6/8\n",
      "237/237 [==============================] - 149s 628ms/step - loss: 0.2133 - accuracy: 0.9144 - val_loss: 1.1944 - val_accuracy: 0.6040\n",
      "Epoch 7/8\n",
      "237/237 [==============================] - 148s 625ms/step - loss: 0.2090 - accuracy: 0.9223 - val_loss: 1.5099 - val_accuracy: 0.5618\n",
      "Epoch 8/8\n",
      "237/237 [==============================] - 145s 612ms/step - loss: 0.1899 - accuracy: 0.9282 - val_loss: 0.2684 - val_accuracy: 0.8881\n",
      "37/37 [==============================] - 34s 902ms/step\n",
      "Epoch 1/8\n",
      "237/237 [==============================] - 153s 632ms/step - loss: 0.1995 - accuracy: 0.9184 - val_loss: 0.3563 - val_accuracy: 0.8574\n",
      "Epoch 2/8\n",
      "237/237 [==============================] - 149s 630ms/step - loss: 0.1775 - accuracy: 0.9300 - val_loss: 0.3721 - val_accuracy: 0.8237\n",
      "Epoch 3/8\n",
      "237/237 [==============================] - 147s 621ms/step - loss: 0.1691 - accuracy: 0.9348 - val_loss: 0.9990 - val_accuracy: 0.6082\n",
      "Epoch 4/8\n",
      "237/237 [==============================] - 146s 617ms/step - loss: 0.1745 - accuracy: 0.9334 - val_loss: 1.5303 - val_accuracy: 0.5935\n",
      "Epoch 5/8\n",
      "237/237 [==============================] - 148s 625ms/step - loss: 0.1714 - accuracy: 0.9361 - val_loss: 0.6543 - val_accuracy: 0.7487\n",
      "Epoch 6/8\n",
      "237/237 [==============================] - 147s 623ms/step - loss: 0.1645 - accuracy: 0.9356 - val_loss: 0.5876 - val_accuracy: 0.7730\n",
      "Epoch 7/8\n",
      "237/237 [==============================] - 147s 622ms/step - loss: 0.1555 - accuracy: 0.9408 - val_loss: 0.2964 - val_accuracy: 0.8891\n",
      "Epoch 8/8\n",
      "237/237 [==============================] - 148s 626ms/step - loss: 0.1561 - accuracy: 0.9422 - val_loss: 0.2400 - val_accuracy: 0.9113\n",
      "37/37 [==============================] - 35s 915ms/step\n",
      "Epoch 1/8\n",
      "237/237 [==============================] - 155s 646ms/step - loss: 0.1683 - accuracy: 0.9345 - val_loss: 0.1238 - val_accuracy: 0.9641\n",
      "Epoch 2/8\n",
      "237/237 [==============================] - 149s 631ms/step - loss: 0.1662 - accuracy: 0.9369 - val_loss: 0.2909 - val_accuracy: 0.8647\n",
      "Epoch 3/8\n",
      "237/237 [==============================] - 151s 636ms/step - loss: 0.1623 - accuracy: 0.9390 - val_loss: 0.2007 - val_accuracy: 0.9218\n",
      "Epoch 4/8\n",
      "237/237 [==============================] - 151s 636ms/step - loss: 0.1492 - accuracy: 0.9488 - val_loss: 1.3211 - val_accuracy: 0.5962\n",
      "Epoch 5/8\n",
      "237/237 [==============================] - 153s 644ms/step - loss: 0.1543 - accuracy: 0.9424 - val_loss: 0.9011 - val_accuracy: 0.7220\n",
      "Epoch 6/8\n",
      "237/237 [==============================] - 152s 643ms/step - loss: 0.1403 - accuracy: 0.9493 - val_loss: 0.1708 - val_accuracy: 0.9239\n",
      "Epoch 7/8\n",
      "237/237 [==============================] - 151s 638ms/step - loss: 0.1358 - accuracy: 0.9490 - val_loss: 0.1771 - val_accuracy: 0.9271\n",
      "Epoch 8/8\n",
      "237/237 [==============================] - 150s 634ms/step - loss: 0.1445 - accuracy: 0.9477 - val_loss: 0.3026 - val_accuracy: 0.8700\n",
      "37/37 [==============================] - 34s 910ms/step\n",
      "Epoch 1/8\n",
      "237/237 [==============================] - 158s 655ms/step - loss: 0.1369 - accuracy: 0.9504 - val_loss: 0.1596 - val_accuracy: 0.9323\n",
      "Epoch 2/8\n",
      "237/237 [==============================] - 149s 631ms/step - loss: 0.1334 - accuracy: 0.9511 - val_loss: 0.3670 - val_accuracy: 0.8330\n",
      "Epoch 3/8\n",
      "237/237 [==============================] - 152s 640ms/step - loss: 0.1286 - accuracy: 0.9533 - val_loss: 0.2509 - val_accuracy: 0.8805\n",
      "Epoch 4/8\n",
      "237/237 [==============================] - 151s 639ms/step - loss: 0.1221 - accuracy: 0.9578 - val_loss: 0.2894 - val_accuracy: 0.8626\n",
      "Epoch 5/8\n",
      "237/237 [==============================] - 152s 641ms/step - loss: 0.1240 - accuracy: 0.9562 - val_loss: 1.0963 - val_accuracy: 0.6755\n",
      "Epoch 6/8\n",
      "237/237 [==============================] - 149s 630ms/step - loss: 0.1224 - accuracy: 0.9562 - val_loss: 1.3495 - val_accuracy: 0.6152\n",
      "Epoch 7/8\n",
      "237/237 [==============================] - 150s 635ms/step - loss: 0.1105 - accuracy: 0.9620 - val_loss: 0.1583 - val_accuracy: 0.9366\n",
      "Epoch 8/8\n",
      "237/237 [==============================] - 150s 633ms/step - loss: 0.1136 - accuracy: 0.9622 - val_loss: 0.2684 - val_accuracy: 0.8943\n",
      "37/37 [==============================] - 36s 945ms/step\n",
      "Average zero-one loss across 5 folds: 0.1609797297297297\n",
      "Average accuracy across 5 folds: 0.7815316691994667\n"
     ]
    }
   ],
   "source": [
    "resnet_loss_2, resnet_accuracy_2 = train_and_evaluate_model(create_model(base_resnet_model), learning_rate=0.0001, epochs=8, batch_size=16)"
   ]
  },
  {
   "cell_type": "code",
   "execution_count": 16,
   "metadata": {},
   "outputs": [],
   "source": [
    "best_resnet_accuracy = max(resnet_accuracy_1, resnet_accuracy_2)\n",
    "best_resnet_loss = min(resnet_loss_1, resnet_loss_2)"
   ]
  },
  {
   "cell_type": "markdown",
   "metadata": {},
   "source": [
    "## Results"
   ]
  },
  {
   "cell_type": "code",
   "execution_count": 35,
   "metadata": {},
   "outputs": [
    {
     "name": "stdout",
     "output_type": "stream",
     "text": [
      "Best VGG accuracy: 0.9950369313359261\n",
      "Best MobileNet accuracy: 0.9983896523714065\n",
      "Best ResNet accuracy: 0.7815316691994667\n"
     ]
    }
   ],
   "source": [
    "print(f\"Best VGG accuracy: {best_vgg_accuracy}\\nBest MobileNet accuracy: {best_mobilenet_accuracy}\\nBest ResNet accuracy: {best_resnet_accuracy}\")"
   ]
  },
  {
   "cell_type": "code",
   "execution_count": 36,
   "metadata": {},
   "outputs": [
    {
     "name": "stdout",
     "output_type": "stream",
     "text": [
      "Best VGG loss: 0.0153716216216216\n",
      "Best MobileNet loss: 0.002195945945945921\n",
      "Best ResNet loss: 0.1609797297297297\n"
     ]
    }
   ],
   "source": [
    "print(f\"Best VGG loss: {best_vgg_loss}\\nBest MobileNet loss: {best_mobilenet_loss}\\nBest ResNet loss: {best_resnet_loss}\")"
   ]
  },
  {
   "cell_type": "code",
   "execution_count": 27,
   "metadata": {},
   "outputs": [
    {
     "name": "stdout",
     "output_type": "stream",
     "text": [
      "Best accuracy: 0.9983896523714065 from MobileNet\n",
      "Best loss: 0.002195945945945921 from MobileNet\n"
     ]
    }
   ],
   "source": [
    "best_accuracy = max(best_vgg_accuracy, best_mobilenet_accuracy, best_resnet_accuracy)\n",
    "best_loss = min(best_vgg_loss, best_mobilenet_loss, best_resnet_loss)\n",
    "\n",
    "# Define the architecture names\n",
    "architecture_names = ['VGG', 'MobileNet', 'ResNet']\n",
    "\n",
    "# Initialize variables to store the best accuracy and loss\n",
    "best_accuracy = 0.0\n",
    "best_loss = float('inf')\n",
    "best_accuracy_architecture = ''\n",
    "best_loss_architecture = ''\n",
    "\n",
    "# Iterate over the architectures\n",
    "for i, architecture in enumerate([best_vgg_accuracy, best_mobilenet_accuracy, best_resnet_accuracy]):\n",
    "    # Check if the current architecture has the best accuracy\n",
    "    if architecture > best_accuracy:\n",
    "        best_accuracy = architecture\n",
    "        best_accuracy_architecture = architecture_names[i]\n",
    "        \n",
    "for i, architecture_loss in enumerate([best_vgg_loss, best_mobilenet_loss, best_resnet_loss]):\n",
    "    # Check if the current architecture has the best loss\n",
    "    if architecture_loss < best_loss:\n",
    "        best_loss = architecture_loss\n",
    "        best_loss_architecture = architecture_names[i]\n",
    "\n",
    "# Print the architecture with the best accuracy and best loss\n",
    "print(f\"Best accuracy: {best_accuracy} from {best_accuracy_architecture}\")\n",
    "print(f\"Best loss: {best_loss} from {best_loss_architecture}\")"
   ]
  }
 ],
 "metadata": {
  "colab": {
   "provenance": [],
   "toc_visible": true
  },
  "kernelspec": {
   "display_name": "Python 3 (ipykernel)",
   "language": "python",
   "name": "python3"
  },
  "language_info": {
   "codemirror_mode": {
    "name": "ipython",
    "version": 3
   },
   "file_extension": ".py",
   "mimetype": "text/x-python",
   "name": "python",
   "nbconvert_exporter": "python",
   "pygments_lexer": "ipython3",
   "version": "3.9.16"
  }
 },
 "nbformat": 4,
 "nbformat_minor": 1
}
