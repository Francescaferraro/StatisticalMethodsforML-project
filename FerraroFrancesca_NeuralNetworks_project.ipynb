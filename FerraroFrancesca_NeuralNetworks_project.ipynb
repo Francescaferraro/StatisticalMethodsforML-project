{
 "cells": [
  {
   "cell_type": "code",
   "execution_count": 1,
   "metadata": {
    "id": "c7JQ8LaGI6og"
   },
   "outputs": [],
   "source": [
    "import os\n",
    "import zipfile\n",
    "import glob\n",
    "import pandas as pd\n",
    "from PIL import Image\n",
    "import random\n",
    "import tensorflow as tf\n",
    "from tensorflow import keras\n",
    "from keras import layers\n",
    "import numpy as np\n",
    "from keras.applications import VGG16, MobileNet, ResNet50\n",
    "from keras.layers import Dense, GlobalAveragePooling2D, BatchNormalization, Activation\n",
    "from keras.models import Model\n",
    "from keras.optimizers import Adam\n",
    "from sklearn.model_selection import KFold\n",
    "from keras.layers import Conv2D, MaxPooling2D, Flatten"
   ]
  },
  {
   "cell_type": "markdown",
   "metadata": {
    "id": "_l0oCI-DR4tK"
   },
   "source": [
    "# Dataset loading"
   ]
  },
  {
   "cell_type": "code",
   "execution_count": 2,
   "metadata": {
    "colab": {
     "base_uri": "https://localhost:8080/"
    },
    "id": "h9WhwInMI4m5",
    "outputId": "72dfdd50-c3c2-4bcd-b63f-700134312b16"
   },
   "outputs": [
    {
     "name": "stdout",
     "output_type": "stream",
     "text": [
      "muffin-vs-chihuahua-image-classification.zip: Skipping, found more recently modified local copy (use --force to force download)\n"
     ]
    }
   ],
   "source": [
    "# Set up Kaggle API Key\n",
    "os.environ['KAGGLE_USERNAME'] = \"xxxxxx\"\n",
    "os.environ['KAGGLE_KEY'] = \"xxxxxx\"\n",
    "\n",
    "# Download the dataset\n",
    "!kaggle datasets download -d samuelcortinhas/muffin-vs-chihuahua-image-classification\n",
    "\n",
    "# Unzip the dataset\n",
    "with zipfile.ZipFile(\"muffin-vs-chihuahua-image-classification.zip\", \"r\") as zip_ref:\n",
    "    zip_ref.extractall(\".\")"
   ]
  },
  {
   "cell_type": "markdown",
   "metadata": {
    "id": "M14eqwWQSBmR"
   },
   "source": [
    "# Data preprocessing"
   ]
  },
  {
   "cell_type": "markdown",
   "metadata": {
    "id": "iyr1JDFlfw6f"
   },
   "source": [
    "### Reshape the images and convert to RGB"
   ]
  },
  {
   "cell_type": "code",
   "execution_count": 3,
   "metadata": {
    "colab": {
     "base_uri": "https://localhost:8080/"
    },
    "id": "7-GMhmfqPEZj",
    "outputId": "eb30c6f5-a27c-413a-bc4b-2c921d3762aa"
   },
   "outputs": [
    {
     "name": "stdout",
     "output_type": "stream",
     "text": [
      "                                                  image      label\n",
      "0     <PIL.Image.Image image mode=RGB size=224x224 a...     muffin\n",
      "1     <PIL.Image.Image image mode=RGB size=224x224 a...     muffin\n",
      "2     <PIL.Image.Image image mode=RGB size=224x224 a...     muffin\n",
      "3     <PIL.Image.Image image mode=RGB size=224x224 a...     muffin\n",
      "4     <PIL.Image.Image image mode=RGB size=224x224 a...     muffin\n",
      "...                                                 ...        ...\n",
      "4728  <PIL.Image.Image image mode=RGB size=224x224 a...  chihuahua\n",
      "4729  <PIL.Image.Image image mode=RGB size=224x224 a...  chihuahua\n",
      "4730  <PIL.Image.Image image mode=RGB size=224x224 a...  chihuahua\n",
      "4731  <PIL.Image.Image image mode=RGB size=224x224 a...  chihuahua\n",
      "4732  <PIL.Image.Image image mode=RGB size=224x224 a...  chihuahua\n",
      "\n",
      "[4733 rows x 2 columns]\n",
      "                                                  image      label\n",
      "0     <PIL.Image.Image image mode=RGB size=224x224 a...     muffin\n",
      "1     <PIL.Image.Image image mode=RGB size=224x224 a...     muffin\n",
      "2     <PIL.Image.Image image mode=RGB size=224x224 a...     muffin\n",
      "3     <PIL.Image.Image image mode=RGB size=224x224 a...     muffin\n",
      "4     <PIL.Image.Image image mode=RGB size=224x224 a...     muffin\n",
      "...                                                 ...        ...\n",
      "1179  <PIL.Image.Image image mode=RGB size=224x224 a...  chihuahua\n",
      "1180  <PIL.Image.Image image mode=RGB size=224x224 a...  chihuahua\n",
      "1181  <PIL.Image.Image image mode=RGB size=224x224 a...  chihuahua\n",
      "1182  <PIL.Image.Image image mode=RGB size=224x224 a...  chihuahua\n",
      "1183  <PIL.Image.Image image mode=RGB size=224x224 a...  chihuahua\n",
      "\n",
      "[1184 rows x 2 columns]\n"
     ]
    }
   ],
   "source": [
    "def load_images(image_dir, img_size):\n",
    "    images = []\n",
    "    for image_path in os.listdir(image_dir):\n",
    "        img = Image.open(os.path.join(image_dir, image_path)).convert('RGB')  # Convert to RGB\n",
    "        img_resized = img.resize((img_size, img_size))\n",
    "        images.append(img_resized)\n",
    "    return images\n",
    "\n",
    "\n",
    "train_dir = 'train'\n",
    "test_dir = 'test'\n",
    "img_size = 224\n",
    "\n",
    "# Load images\n",
    "train_muffin_images = load_images(os.path.join(train_dir, 'muffin'), img_size)\n",
    "train_chihuahua_images = load_images(os.path.join(train_dir, 'chihuahua'), img_size)\n",
    "test_muffin_images = load_images(os.path.join(test_dir, 'muffin'), img_size)\n",
    "test_chihuahua_images = load_images(os.path.join(test_dir, 'chihuahua'), img_size)\n",
    "\n",
    "\n",
    "# Create DataFrames for train and test sets\n",
    "train_data = {'image': train_muffin_images + train_chihuahua_images, 'label': ['muffin'] * len(train_muffin_images) + ['chihuahua'] * len(train_chihuahua_images)}\n",
    "train_df = pd.DataFrame(train_data)\n",
    "\n",
    "test_data = {'image': test_muffin_images + test_chihuahua_images, 'label': ['muffin'] * len(test_muffin_images) + ['chihuahua'] * len(test_chihuahua_images)}\n",
    "test_df = pd.DataFrame(test_data)\n",
    "\n",
    "# Print the DataFrames\n",
    "print(train_df)\n",
    "print(test_df)"
   ]
  },
  {
   "cell_type": "markdown",
   "metadata": {
    "id": "E3hOFjIfeFGj"
   },
   "source": [
    "### Convert the images into np arrays"
   ]
  },
  {
   "cell_type": "code",
   "execution_count": 4,
   "metadata": {
    "id": "Ygo1HfQdertx"
   },
   "outputs": [],
   "source": [
    "def images_to_arrays(images):\n",
    "    return np.stack([np.array(img) for img in images])\n",
    "\n",
    "# vertical concatenatenation of arrays along the first axis\n",
    "X_train = np.vstack((images_to_arrays(train_muffin_images), images_to_arrays(train_chihuahua_images)))\n",
    "X_test = np.vstack((images_to_arrays(test_muffin_images), images_to_arrays(test_chihuahua_images)))\n",
    "\n",
    "y_train = np.array([0] * len(train_muffin_images) + [1] * len(train_chihuahua_images))\n",
    "y_test = np.array([0] * len(test_muffin_images) + [1] * len(test_chihuahua_images))\n",
    "\n",
    "# Normalize the pixel values\n",
    "X_train = X_train.astype('float32') / 255\n",
    "X_test = X_test.astype('float32') / 255"
   ]
  },
  {
   "cell_type": "markdown",
   "metadata": {
    "id": "oKcfnT6Yaiub"
   },
   "source": [
    "# Network architectures"
   ]
  },
  {
   "cell_type": "markdown",
   "metadata": {
    "id": "1s_Jtj8-_tsB"
   },
   "source": [
    "## Training the model with 5-Fold CV"
   ]
  },
  {
   "cell_type": "markdown",
   "metadata": {
    "id": "NswvFaiWIEpC"
   },
   "source": [
    "During the model.fit() both loss and accuracy for the training and for the validation set are computed, in order to monitoring the possible cases of overfitting. If the loss value decreases while the val_loss value starts to increase, it may indicate that the model is overfitting to the training set and is not generalizing well to new data."
   ]
  },
  {
   "cell_type": "markdown",
   "metadata": {},
   "source": [
    "### General model creation and training"
   ]
  },
  {
   "cell_type": "code",
   "execution_count": 5,
   "metadata": {
    "colab": {
     "background_save": true,
     "base_uri": "https://localhost:8080/"
    },
    "id": "uxS5h2ccWF4E",
    "outputId": "89180ec5-dac6-433e-b3f5-8b950012d11a"
   },
   "outputs": [],
   "source": [
    "def create_model(base_model, neurons, activation_function):\n",
    "    for layer in base_model.layers: #transfer learning\n",
    "        layer.trainable = False\n",
    "    x = base_model.output\n",
    "    x = Flatten()(x) #flatten the input tensor from a 3D tensor to a 2D tensor\n",
    "    x = Dense(neurons)(x) \n",
    "    x = BatchNormalization()(x) #tries to make the process faster\n",
    "    x = Activation(activation_function)(x) #introduces non-linearity\n",
    "    predictions = Dense(1, activation='sigmoid')(x) #produces the binary classification output\n",
    "    model = Model(inputs=base_model.input, outputs=predictions)\n",
    "    return model"
   ]
  },
  {
   "cell_type": "code",
   "execution_count": 6,
   "metadata": {
    "id": "GJCpivGC-pYn"
   },
   "outputs": [],
   "source": [
    "def train_and_evaluate_model(create_model, learning_rate, epochs, batch_size) : #these hyperparameters will be changed for experimenting\n",
    "    # KFold cross-validation\n",
    "    num_folds = 5\n",
    "    kfold = KFold(n_splits=num_folds, shuffle=True, random_state=42)\n",
    "\n",
    "    fold_scores = []\n",
    "    fold_accuracies = []\n",
    "\n",
    "    for train_index, val_index in kfold.split(X_train):\n",
    "        X_train_fold, X_val = X_train[train_index], X_train[val_index]\n",
    "        y_train_fold, y_val = y_train[train_index], y_train[val_index]\n",
    "\n",
    "        # Create and compile the model\n",
    "        model = create_model\n",
    "        model.compile(optimizer=Adam(learning_rate=learning_rate), loss='binary_crossentropy', metrics=['accuracy'])\n",
    "\n",
    "        # Train the model on the current fold\n",
    "        history = model.fit(X_train_fold, y_train_fold, epochs=epochs, batch_size=batch_size, validation_data=(X_val, y_val))\n",
    "\n",
    "        # Evaluate the model on the test set and store the performance metric (using zero-one loss as required)\n",
    "        y_pred = model.predict(X_test)\n",
    "        y_pred = np.round(y_pred)\n",
    "        zero_one_loss = 1 - np.mean(y_pred.flatten() == y_test)\n",
    "        fold_scores.append(zero_one_loss)\n",
    "        fold_accuracies.append(np.mean(history.history['val_accuracy']))\n",
    "\n",
    "    average_zero_one_loss = np.mean(fold_scores)\n",
    "    average_accuracy = np.mean(fold_accuracies)\n",
    "    print(f\"Average zero-one loss across {num_folds} folds: {average_zero_one_loss}\")\n",
    "    print(f\"Average accuracy across {num_folds} folds: {average_accuracy}\")\n",
    "\n",
    "    return average_zero_one_loss, average_accuracy"
   ]
  },
  {
   "cell_type": "markdown",
   "metadata": {},
   "source": [
    "### from scratch CNN"
   ]
  },
  {
   "cell_type": "code",
   "execution_count": 78,
   "metadata": {},
   "outputs": [],
   "source": [
    "def create_custom_cnn(input_shape):\n",
    "    model = keras.Sequential()\n",
    "    model.add(Conv2D(32, (3, 3), activation='relu', input_shape=input_shape))\n",
    "    model.add(MaxPooling2D((2, 2)))\n",
    "    model.add(Conv2D(64, (3, 3), activation='relu'))\n",
    "    model.add(MaxPooling2D((2, 2)))\n",
    "    model.add(Conv2D(128, (3, 3), activation='relu'))\n",
    "    model.add(MaxPooling2D((2, 2)))\n",
    "    model.add(Flatten())\n",
    "    model.add(Dense(512, activation='relu'))\n",
    "    model.add(Dense(1, activation='sigmoid'))\n",
    "    return model"
   ]
  },
  {
   "cell_type": "code",
   "execution_count": 79,
   "metadata": {},
   "outputs": [],
   "source": [
    "base_CNN_model = create_custom_cnn(input_shape=(img_size, img_size, 3))"
   ]
  },
  {
   "cell_type": "code",
   "execution_count": 80,
   "metadata": {},
   "outputs": [
    {
     "name": "stdout",
     "output_type": "stream",
     "text": [
      "Epoch 1/4\n",
      "474/474 [==============================] - 24s 49ms/step - loss: 0.6872 - accuracy: 0.5261 - val_loss: 0.6931 - val_accuracy: 0.5480\n",
      "Epoch 2/4\n",
      "474/474 [==============================] - 24s 52ms/step - loss: 0.6849 - accuracy: 0.5341 - val_loss: 0.6932 - val_accuracy: 0.4562\n",
      "Epoch 3/4\n",
      "474/474 [==============================] - 22s 46ms/step - loss: 0.6849 - accuracy: 0.5433 - val_loss: 0.6942 - val_accuracy: 0.5248\n",
      "Epoch 4/4\n",
      "474/474 [==============================] - 24s 52ms/step - loss: 0.6853 - accuracy: 0.5423 - val_loss: 0.6900 - val_accuracy: 0.5480\n",
      "37/37 [==============================] - 4s 114ms/step\n",
      "Epoch 1/4\n",
      "474/474 [==============================] - 27s 55ms/step - loss: 0.6851 - accuracy: 0.5378 - val_loss: 0.6943 - val_accuracy: 0.4984\n",
      "Epoch 2/4\n",
      "474/474 [==============================] - 23s 49ms/step - loss: 0.6836 - accuracy: 0.5446 - val_loss: 0.6863 - val_accuracy: 0.5312\n",
      "Epoch 3/4\n",
      "474/474 [==============================] - 23s 47ms/step - loss: 0.6838 - accuracy: 0.5486 - val_loss: 0.7041 - val_accuracy: 0.5312\n",
      "Epoch 4/4\n",
      "474/474 [==============================] - 22s 47ms/step - loss: 0.6843 - accuracy: 0.5420 - val_loss: 0.7398 - val_accuracy: 0.5312\n",
      "37/37 [==============================] - 4s 118ms/step\n",
      "Epoch 1/4\n",
      "474/474 [==============================] - 24s 50ms/step - loss: 0.6831 - accuracy: 0.5491 - val_loss: 0.7556 - val_accuracy: 0.5385\n",
      "Epoch 2/4\n",
      "474/474 [==============================] - 23s 49ms/step - loss: 0.6838 - accuracy: 0.5436 - val_loss: 0.7016 - val_accuracy: 0.5385\n",
      "Epoch 3/4\n",
      "474/474 [==============================] - 23s 48ms/step - loss: 0.6836 - accuracy: 0.5409 - val_loss: 0.6871 - val_accuracy: 0.5385\n",
      "Epoch 4/4\n",
      "474/474 [==============================] - 23s 49ms/step - loss: 0.6829 - accuracy: 0.5417 - val_loss: 0.6910 - val_accuracy: 0.5111\n",
      "37/37 [==============================] - 5s 122ms/step\n",
      "Epoch 1/4\n",
      "474/474 [==============================] - 24s 49ms/step - loss: 0.6845 - accuracy: 0.5440 - val_loss: 0.7604 - val_accuracy: 0.5433\n",
      "Epoch 2/4\n",
      "474/474 [==============================] - 23s 48ms/step - loss: 0.6837 - accuracy: 0.5458 - val_loss: 0.7098 - val_accuracy: 0.5412\n",
      "Epoch 3/4\n",
      "474/474 [==============================] - 23s 48ms/step - loss: 0.6853 - accuracy: 0.5450 - val_loss: 0.7941 - val_accuracy: 0.5433\n",
      "Epoch 4/4\n",
      "474/474 [==============================] - 23s 48ms/step - loss: 0.6839 - accuracy: 0.5426 - val_loss: 0.6926 - val_accuracy: 0.5000\n",
      "37/37 [==============================] - 5s 128ms/step\n",
      "Epoch 1/4\n",
      "474/474 [==============================] - 26s 53ms/step - loss: 0.6849 - accuracy: 0.5442 - val_loss: 0.6826 - val_accuracy: 0.5507\n",
      "Epoch 2/4\n",
      "474/474 [==============================] - 24s 50ms/step - loss: 0.6864 - accuracy: 0.5371 - val_loss: 0.8543 - val_accuracy: 0.5423\n",
      "Epoch 3/4\n",
      "474/474 [==============================] - 25s 52ms/step - loss: 0.6844 - accuracy: 0.5416 - val_loss: 0.6797 - val_accuracy: 0.5391\n",
      "Epoch 4/4\n",
      "474/474 [==============================] - 23s 49ms/step - loss: 0.6856 - accuracy: 0.5408 - val_loss: 0.7413 - val_accuracy: 0.5423\n",
      "37/37 [==============================] - 5s 119ms/step\n",
      "Average zero-one loss across 5 folds: 0.47787162162162156\n",
      "Average accuracy across 5 folds: 0.5298998013138772\n"
     ]
    }
   ],
   "source": [
    "cnn_loss_1, cnn_accuracy_1 = train_and_evaluate_model(create_model(base_CNN_model, 1024, 'relu'), learning_rate=0.001, epochs=4, batch_size=8)"
   ]
  },
  {
   "cell_type": "code",
   "execution_count": 81,
   "metadata": {},
   "outputs": [
    {
     "name": "stdout",
     "output_type": "stream",
     "text": [
      "Epoch 1/8\n",
      "237/237 [==============================] - 23s 93ms/step - loss: 0.6908 - accuracy: 0.5317 - val_loss: 0.6914 - val_accuracy: 0.5480\n",
      "Epoch 2/8\n",
      "237/237 [==============================] - 20s 84ms/step - loss: 0.6893 - accuracy: 0.5375 - val_loss: 0.6910 - val_accuracy: 0.5449\n",
      "Epoch 3/8\n",
      "237/237 [==============================] - 20s 84ms/step - loss: 0.6897 - accuracy: 0.5328 - val_loss: 0.6859 - val_accuracy: 0.5480\n",
      "Epoch 4/8\n",
      "237/237 [==============================] - 20s 85ms/step - loss: 0.6888 - accuracy: 0.5322 - val_loss: 0.6854 - val_accuracy: 0.5480\n",
      "Epoch 5/8\n",
      "237/237 [==============================] - 20s 85ms/step - loss: 0.6894 - accuracy: 0.5346 - val_loss: 0.6938 - val_accuracy: 0.5480\n",
      "Epoch 6/8\n",
      "237/237 [==============================] - 20s 85ms/step - loss: 0.6892 - accuracy: 0.5283 - val_loss: 0.6914 - val_accuracy: 0.5480\n",
      "Epoch 7/8\n",
      "237/237 [==============================] - 20s 85ms/step - loss: 0.6894 - accuracy: 0.5372 - val_loss: 0.6870 - val_accuracy: 0.5449\n",
      "Epoch 8/8\n",
      "237/237 [==============================] - 20s 84ms/step - loss: 0.6896 - accuracy: 0.5333 - val_loss: 0.6845 - val_accuracy: 0.5502\n",
      "37/37 [==============================] - 5s 122ms/step\n",
      "Epoch 1/8\n",
      "237/237 [==============================] - 22s 90ms/step - loss: 0.6880 - accuracy: 0.5420 - val_loss: 0.6919 - val_accuracy: 0.5206\n",
      "Epoch 2/8\n",
      "237/237 [==============================] - 20s 86ms/step - loss: 0.6879 - accuracy: 0.5386 - val_loss: 0.6912 - val_accuracy: 0.5026\n",
      "Epoch 3/8\n",
      "237/237 [==============================] - 21s 88ms/step - loss: 0.6880 - accuracy: 0.5396 - val_loss: 0.6996 - val_accuracy: 0.5026\n",
      "Epoch 4/8\n",
      "237/237 [==============================] - 20s 86ms/step - loss: 0.6881 - accuracy: 0.5320 - val_loss: 0.6945 - val_accuracy: 0.5322\n",
      "Epoch 5/8\n",
      "237/237 [==============================] - 20s 86ms/step - loss: 0.6876 - accuracy: 0.5407 - val_loss: 0.6922 - val_accuracy: 0.5216\n",
      "Epoch 6/8\n",
      "237/237 [==============================] - 21s 87ms/step - loss: 0.6876 - accuracy: 0.5372 - val_loss: 0.7026 - val_accuracy: 0.4984\n",
      "Epoch 7/8\n",
      "237/237 [==============================] - 21s 88ms/step - loss: 0.6879 - accuracy: 0.5362 - val_loss: 0.6901 - val_accuracy: 0.4931\n",
      "Epoch 8/8\n",
      "237/237 [==============================] - 21s 88ms/step - loss: 0.6877 - accuracy: 0.5394 - val_loss: 0.6920 - val_accuracy: 0.5206\n",
      "37/37 [==============================] - 5s 125ms/step\n",
      "Epoch 1/8\n",
      "237/237 [==============================] - 23s 94ms/step - loss: 0.6875 - accuracy: 0.5267 - val_loss: 0.6983 - val_accuracy: 0.5385\n",
      "Epoch 2/8\n",
      "237/237 [==============================] - 21s 87ms/step - loss: 0.6881 - accuracy: 0.5304 - val_loss: 0.6915 - val_accuracy: 0.5259\n",
      "Epoch 3/8\n",
      "237/237 [==============================] - 20s 86ms/step - loss: 0.6873 - accuracy: 0.5256 - val_loss: 0.6919 - val_accuracy: 0.5238\n",
      "Epoch 4/8\n",
      "237/237 [==============================] - 20s 86ms/step - loss: 0.6876 - accuracy: 0.5296 - val_loss: 0.7033 - val_accuracy: 0.5026\n",
      "Epoch 5/8\n",
      "237/237 [==============================] - 21s 88ms/step - loss: 0.6876 - accuracy: 0.5251 - val_loss: 0.6931 - val_accuracy: 0.4942\n",
      "Epoch 6/8\n",
      "237/237 [==============================] - 20s 86ms/step - loss: 0.6872 - accuracy: 0.5214 - val_loss: 0.7003 - val_accuracy: 0.5048\n",
      "Epoch 7/8\n",
      "237/237 [==============================] - 20s 84ms/step - loss: 0.6879 - accuracy: 0.5217 - val_loss: 0.6920 - val_accuracy: 0.5238\n",
      "Epoch 8/8\n",
      "237/237 [==============================] - 20s 86ms/step - loss: 0.6873 - accuracy: 0.5293 - val_loss: 0.7181 - val_accuracy: 0.4710\n",
      "37/37 [==============================] - 5s 128ms/step\n",
      "Epoch 1/8\n",
      "237/237 [==============================] - 22s 92ms/step - loss: 0.6882 - accuracy: 0.5250 - val_loss: 0.6894 - val_accuracy: 0.5243\n",
      "Epoch 2/8\n",
      "237/237 [==============================] - 19s 82ms/step - loss: 0.6879 - accuracy: 0.5247 - val_loss: 0.6903 - val_accuracy: 0.4926\n",
      "Epoch 3/8\n",
      "237/237 [==============================] - 19s 82ms/step - loss: 0.6883 - accuracy: 0.5281 - val_loss: 0.6900 - val_accuracy: 0.5412\n",
      "Epoch 4/8\n",
      "237/237 [==============================] - 19s 82ms/step - loss: 0.6879 - accuracy: 0.5220 - val_loss: 0.7004 - val_accuracy: 0.5433\n",
      "Epoch 5/8\n",
      "237/237 [==============================] - 20s 86ms/step - loss: 0.6885 - accuracy: 0.5279 - val_loss: 0.6896 - val_accuracy: 0.5021\n",
      "Epoch 6/8\n",
      "237/237 [==============================] - 20s 85ms/step - loss: 0.6883 - accuracy: 0.5300 - val_loss: 0.6964 - val_accuracy: 0.5243\n",
      "Epoch 7/8\n",
      "237/237 [==============================] - 20s 84ms/step - loss: 0.6886 - accuracy: 0.5215 - val_loss: 0.6903 - val_accuracy: 0.4915\n",
      "Epoch 8/8\n",
      "237/237 [==============================] - 20s 86ms/step - loss: 0.6882 - accuracy: 0.5281 - val_loss: 0.6891 - val_accuracy: 0.5349\n",
      "37/37 [==============================] - 5s 121ms/step\n",
      "Epoch 1/8\n",
      "237/237 [==============================] - 22s 89ms/step - loss: 0.6887 - accuracy: 0.5331 - val_loss: 0.6886 - val_accuracy: 0.5402\n",
      "Epoch 2/8\n",
      "237/237 [==============================] - 21s 89ms/step - loss: 0.6886 - accuracy: 0.5313 - val_loss: 0.6948 - val_accuracy: 0.5423\n",
      "Epoch 3/8\n",
      "237/237 [==============================] - 21s 88ms/step - loss: 0.6890 - accuracy: 0.5353 - val_loss: 0.6872 - val_accuracy: 0.5095\n",
      "Epoch 4/8\n",
      "237/237 [==============================] - 20s 86ms/step - loss: 0.6889 - accuracy: 0.5403 - val_loss: 0.6875 - val_accuracy: 0.5402\n",
      "Epoch 5/8\n",
      "237/237 [==============================] - 21s 87ms/step - loss: 0.6890 - accuracy: 0.5374 - val_loss: 0.6866 - val_accuracy: 0.5338\n",
      "Epoch 6/8\n",
      "237/237 [==============================] - 20s 85ms/step - loss: 0.6889 - accuracy: 0.5395 - val_loss: 0.6982 - val_accuracy: 0.4937\n",
      "Epoch 7/8\n",
      "237/237 [==============================] - 20s 85ms/step - loss: 0.6888 - accuracy: 0.5337 - val_loss: 0.6941 - val_accuracy: 0.5328\n",
      "Epoch 8/8\n",
      "237/237 [==============================] - 21s 87ms/step - loss: 0.6886 - accuracy: 0.5360 - val_loss: 0.6880 - val_accuracy: 0.5148\n",
      "37/37 [==============================] - 4s 116ms/step\n",
      "Average zero-one loss across 5 folds: 0.4864864864864864\n",
      "Average accuracy across 5 folds: 0.5229504071176052\n"
     ]
    }
   ],
   "source": [
    "cnn_loss_2, cnn_accuracy_2 = train_and_evaluate_model(create_model(base_CNN_model, 512, 'tanh'), learning_rate=0.0001, epochs=8, batch_size=16)"
   ]
  },
  {
   "cell_type": "code",
   "execution_count": 19,
   "metadata": {},
   "outputs": [],
   "source": [
    "best_cnn_accuracy = max(cnn_accuracy_1, cnn_accuracy_2)\n",
    "best_cnn_loss = min(cnn_loss_1, cnn_loss_2)"
   ]
  },
  {
   "cell_type": "markdown",
   "metadata": {
    "id": "bS7O_cKsgoHm"
   },
   "source": [
    "### VGG16"
   ]
  },
  {
   "cell_type": "code",
   "execution_count": 9,
   "metadata": {},
   "outputs": [],
   "source": [
    "base_vgg_model = VGG16(weights='imagenet', include_top=False, input_shape=(img_size, img_size, 3))"
   ]
  },
  {
   "cell_type": "code",
   "execution_count": 10,
   "metadata": {
    "scrolled": true
   },
   "outputs": [
    {
     "name": "stdout",
     "output_type": "stream",
     "text": [
      "Epoch 1/4\n",
      "474/474 [==============================] - 399s 841ms/step - loss: 0.2590 - accuracy: 0.9128 - val_loss: 0.0774 - val_accuracy: 0.9704\n",
      "Epoch 2/4\n",
      "474/474 [==============================] - 408s 861ms/step - loss: 0.0996 - accuracy: 0.9662 - val_loss: 0.0748 - val_accuracy: 0.9694\n",
      "Epoch 3/4\n",
      "474/474 [==============================] - 405s 854ms/step - loss: 0.0952 - accuracy: 0.9670 - val_loss: 0.0534 - val_accuracy: 0.9768\n",
      "Epoch 4/4\n",
      "474/474 [==============================] - 401s 845ms/step - loss: 0.0869 - accuracy: 0.9733 - val_loss: 0.1199 - val_accuracy: 0.9514\n",
      "37/37 [==============================] - 91s 2s/step\n",
      "Epoch 1/4\n",
      "474/474 [==============================] - 400s 842ms/step - loss: 0.1030 - accuracy: 0.9630 - val_loss: 0.0163 - val_accuracy: 0.9958\n",
      "Epoch 2/4\n",
      "474/474 [==============================] - 401s 847ms/step - loss: 0.0893 - accuracy: 0.9688 - val_loss: 0.0179 - val_accuracy: 0.9937\n",
      "Epoch 3/4\n",
      "474/474 [==============================] - 399s 841ms/step - loss: 0.0702 - accuracy: 0.9794 - val_loss: 0.0242 - val_accuracy: 0.9916\n",
      "Epoch 4/4\n",
      "474/474 [==============================] - 402s 848ms/step - loss: 0.0693 - accuracy: 0.9789 - val_loss: 0.0223 - val_accuracy: 0.9916\n",
      "37/37 [==============================] - 91s 2s/step\n",
      "Epoch 1/4\n",
      "474/474 [==============================] - 400s 844ms/step - loss: 0.0646 - accuracy: 0.9770 - val_loss: 0.0019 - val_accuracy: 1.0000\n",
      "Epoch 2/4\n",
      "474/474 [==============================] - 404s 853ms/step - loss: 0.0575 - accuracy: 0.9818 - val_loss: 0.0032 - val_accuracy: 1.0000\n",
      "Epoch 3/4\n",
      "474/474 [==============================] - 403s 851ms/step - loss: 0.0789 - accuracy: 0.9789 - val_loss: 0.0051 - val_accuracy: 1.0000\n",
      "Epoch 4/4\n",
      "474/474 [==============================] - 404s 852ms/step - loss: 0.0380 - accuracy: 0.9873 - val_loss: 0.0053 - val_accuracy: 0.9979\n",
      "37/37 [==============================] - 92s 2s/step\n",
      "Epoch 1/4\n",
      "474/474 [==============================] - 405s 850ms/step - loss: 0.0589 - accuracy: 0.9813 - val_loss: 0.0019 - val_accuracy: 1.0000\n",
      "Epoch 2/4\n",
      "474/474 [==============================] - 400s 844ms/step - loss: 0.0575 - accuracy: 0.9791 - val_loss: 0.0021 - val_accuracy: 1.0000\n",
      "Epoch 3/4\n",
      "474/474 [==============================] - 400s 844ms/step - loss: 0.0372 - accuracy: 0.9873 - val_loss: 0.0022 - val_accuracy: 0.9989\n",
      "Epoch 4/4\n",
      "474/474 [==============================] - 400s 843ms/step - loss: 0.0409 - accuracy: 0.9863 - val_loss: 0.0017 - val_accuracy: 1.0000\n",
      "37/37 [==============================] - 91s 2s/step\n",
      "Epoch 1/4\n",
      "474/474 [==============================] - 401s 845ms/step - loss: 0.0381 - accuracy: 0.9881 - val_loss: 0.0019 - val_accuracy: 1.0000\n",
      "Epoch 2/4\n",
      "474/474 [==============================] - 397s 839ms/step - loss: 0.0503 - accuracy: 0.9823 - val_loss: 7.4718e-04 - val_accuracy: 1.0000\n",
      "Epoch 3/4\n",
      "474/474 [==============================] - 398s 841ms/step - loss: 0.0579 - accuracy: 0.9823 - val_loss: 0.0019 - val_accuracy: 1.0000\n",
      "Epoch 4/4\n",
      "474/474 [==============================] - 397s 838ms/step - loss: 0.0375 - accuracy: 0.9889 - val_loss: 0.0019 - val_accuracy: 1.0000\n",
      "37/37 [==============================] - 91s 2s/step\n",
      "Average zero-one loss across 5 folds: 0.02364864864864864\n",
      "Average accuracy across 5 folds: 0.991869005560875\n"
     ]
    }
   ],
   "source": [
    "vgg_loss_1, vgg_accuracy_1 = train_and_evaluate_model(create_model(base_vgg_model, 1024, 'relu'), learning_rate=0.001, epochs=4, batch_size=8)"
   ]
  },
  {
   "cell_type": "code",
   "execution_count": 11,
   "metadata": {},
   "outputs": [
    {
     "name": "stdout",
     "output_type": "stream",
     "text": [
      "Epoch 1/8\n",
      "237/237 [==============================] - 377s 2s/step - loss: 0.1845 - accuracy: 0.9411 - val_loss: 0.0556 - val_accuracy: 0.9799\n",
      "Epoch 2/8\n",
      "237/237 [==============================] - 373s 2s/step - loss: 0.0720 - accuracy: 0.9733 - val_loss: 0.0485 - val_accuracy: 0.9831\n",
      "Epoch 3/8\n",
      "237/237 [==============================] - 375s 2s/step - loss: 0.0287 - accuracy: 0.9894 - val_loss: 0.0463 - val_accuracy: 0.9842\n",
      "Epoch 4/8\n",
      "237/237 [==============================] - 372s 2s/step - loss: 0.0369 - accuracy: 0.9865 - val_loss: 0.0823 - val_accuracy: 0.9725\n",
      "Epoch 5/8\n",
      "237/237 [==============================] - 374s 2s/step - loss: 0.0219 - accuracy: 0.9923 - val_loss: 0.0454 - val_accuracy: 0.9884\n",
      "Epoch 6/8\n",
      "237/237 [==============================] - 374s 2s/step - loss: 0.0234 - accuracy: 0.9905 - val_loss: 0.0579 - val_accuracy: 0.9842\n",
      "Epoch 7/8\n",
      "237/237 [==============================] - 373s 2s/step - loss: 0.0131 - accuracy: 0.9966 - val_loss: 0.0742 - val_accuracy: 0.9768\n",
      "Epoch 8/8\n",
      "237/237 [==============================] - 375s 2s/step - loss: 0.0090 - accuracy: 0.9979 - val_loss: 0.0430 - val_accuracy: 0.9884\n",
      "37/37 [==============================] - 90s 2s/step\n",
      "Epoch 1/8\n",
      "237/237 [==============================] - 374s 2s/step - loss: 0.0500 - accuracy: 0.9834 - val_loss: 0.0092 - val_accuracy: 0.9968\n",
      "Epoch 2/8\n",
      "237/237 [==============================] - 374s 2s/step - loss: 0.0288 - accuracy: 0.9894 - val_loss: 0.0175 - val_accuracy: 0.9937\n",
      "Epoch 3/8\n",
      "237/237 [==============================] - 373s 2s/step - loss: 0.0175 - accuracy: 0.9926 - val_loss: 0.0068 - val_accuracy: 0.9979\n",
      "Epoch 4/8\n",
      "237/237 [==============================] - 373s 2s/step - loss: 0.0309 - accuracy: 0.9876 - val_loss: 0.0113 - val_accuracy: 0.9937\n",
      "Epoch 5/8\n",
      "237/237 [==============================] - 374s 2s/step - loss: 0.0200 - accuracy: 0.9934 - val_loss: 0.0063 - val_accuracy: 0.9979\n",
      "Epoch 6/8\n",
      "237/237 [==============================] - 373s 2s/step - loss: 0.0273 - accuracy: 0.9905 - val_loss: 0.0164 - val_accuracy: 0.9947\n",
      "Epoch 7/8\n",
      "237/237 [==============================] - 382s 2s/step - loss: 0.0159 - accuracy: 0.9950 - val_loss: 0.0179 - val_accuracy: 0.9968\n",
      "Epoch 8/8\n",
      "237/237 [==============================] - 375s 2s/step - loss: 0.0146 - accuracy: 0.9955 - val_loss: 0.0160 - val_accuracy: 0.9958\n",
      "37/37 [==============================] - 92s 2s/step\n",
      "Epoch 1/8\n",
      "237/237 [==============================] - 390s 2s/step - loss: 0.0240 - accuracy: 0.9897 - val_loss: 0.0186 - val_accuracy: 0.9926\n",
      "Epoch 2/8\n",
      "237/237 [==============================] - 375s 2s/step - loss: 0.0149 - accuracy: 0.9950 - val_loss: 0.0029 - val_accuracy: 0.9989\n",
      "Epoch 3/8\n",
      "237/237 [==============================] - 375s 2s/step - loss: 0.0100 - accuracy: 0.9963 - val_loss: 0.0012 - val_accuracy: 1.0000\n",
      "Epoch 4/8\n",
      "237/237 [==============================] - 377s 2s/step - loss: 0.0130 - accuracy: 0.9963 - val_loss: 0.0038 - val_accuracy: 0.9979\n",
      "Epoch 5/8\n",
      "237/237 [==============================] - 375s 2s/step - loss: 0.0184 - accuracy: 0.9939 - val_loss: 0.0100 - val_accuracy: 0.9947\n",
      "Epoch 6/8\n",
      "237/237 [==============================] - 378s 2s/step - loss: 0.0182 - accuracy: 0.9926 - val_loss: 0.0054 - val_accuracy: 0.9979\n",
      "Epoch 7/8\n",
      "237/237 [==============================] - 376s 2s/step - loss: 0.0143 - accuracy: 0.9950 - val_loss: 0.0121 - val_accuracy: 0.9926\n",
      "Epoch 8/8\n",
      "237/237 [==============================] - 379s 2s/step - loss: 0.0073 - accuracy: 0.9974 - val_loss: 0.0055 - val_accuracy: 0.9989\n",
      "37/37 [==============================] - 92s 2s/step\n",
      "Epoch 1/8\n",
      "237/237 [==============================] - 377s 2s/step - loss: 0.0148 - accuracy: 0.9945 - val_loss: 0.0010 - val_accuracy: 1.0000\n",
      "Epoch 2/8\n",
      "237/237 [==============================] - 375s 2s/step - loss: 0.0064 - accuracy: 0.9979 - val_loss: 8.2872e-04 - val_accuracy: 1.0000\n",
      "Epoch 3/8\n",
      "237/237 [==============================] - 378s 2s/step - loss: 0.0043 - accuracy: 0.9989 - val_loss: 8.1879e-04 - val_accuracy: 1.0000\n",
      "Epoch 4/8\n",
      "237/237 [==============================] - 375s 2s/step - loss: 0.0080 - accuracy: 0.9979 - val_loss: 7.0779e-04 - val_accuracy: 1.0000\n",
      "Epoch 5/8\n",
      "237/237 [==============================] - 378s 2s/step - loss: 0.0117 - accuracy: 0.9958 - val_loss: 0.0019 - val_accuracy: 0.9989\n",
      "Epoch 6/8\n",
      "237/237 [==============================] - 377s 2s/step - loss: 0.0088 - accuracy: 0.9968 - val_loss: 0.0016 - val_accuracy: 0.9989\n",
      "Epoch 7/8\n",
      "237/237 [==============================] - 378s 2s/step - loss: 0.0114 - accuracy: 0.9960 - val_loss: 0.0056 - val_accuracy: 0.9979\n",
      "Epoch 8/8\n",
      "237/237 [==============================] - 375s 2s/step - loss: 0.0154 - accuracy: 0.9955 - val_loss: 0.0011 - val_accuracy: 1.0000\n",
      "37/37 [==============================] - 92s 2s/step\n",
      "Epoch 1/8\n",
      "237/237 [==============================] - 383s 2s/step - loss: 0.0079 - accuracy: 0.9976 - val_loss: 2.0240e-04 - val_accuracy: 1.0000\n",
      "Epoch 2/8\n",
      "237/237 [==============================] - 377s 2s/step - loss: 0.0137 - accuracy: 0.9958 - val_loss: 5.7671e-04 - val_accuracy: 1.0000\n",
      "Epoch 3/8\n",
      "237/237 [==============================] - 376s 2s/step - loss: 0.0067 - accuracy: 0.9979 - val_loss: 0.0012 - val_accuracy: 1.0000\n",
      "Epoch 4/8\n",
      "237/237 [==============================] - 379s 2s/step - loss: 0.0079 - accuracy: 0.9974 - val_loss: 5.6739e-04 - val_accuracy: 1.0000\n",
      "Epoch 5/8\n",
      "237/237 [==============================] - 375s 2s/step - loss: 0.0057 - accuracy: 0.9982 - val_loss: 4.4468e-04 - val_accuracy: 1.0000\n",
      "Epoch 6/8\n",
      "237/237 [==============================] - 378s 2s/step - loss: 0.0039 - accuracy: 0.9992 - val_loss: 5.1128e-04 - val_accuracy: 1.0000\n",
      "Epoch 7/8\n",
      "237/237 [==============================] - 376s 2s/step - loss: 0.0056 - accuracy: 0.9982 - val_loss: 1.7567e-04 - val_accuracy: 1.0000\n",
      "Epoch 8/8\n",
      "237/237 [==============================] - 376s 2s/step - loss: 0.0032 - accuracy: 0.9984 - val_loss: 0.0013 - val_accuracy: 1.0000\n",
      "37/37 [==============================] - 93s 3s/step\n",
      "Average zero-one loss across 5 folds: 0.021114864864864892\n",
      "Average accuracy across 5 folds: 0.9948520511388779\n"
     ]
    }
   ],
   "source": [
    "vgg_loss_2, vgg_accuracy_2 = train_and_evaluate_model(create_model(base_vgg_model, 512, 'tanh'), learning_rate=0.0001, epochs=8, batch_size=16)"
   ]
  },
  {
   "cell_type": "code",
   "execution_count": 18,
   "metadata": {},
   "outputs": [],
   "source": [
    "best_vgg_accuracy = max(vgg_accuracy_1, vgg_accuracy_2)\n",
    "best_vgg_loss = min(vgg_loss_1, vgg_loss_2)"
   ]
  },
  {
   "cell_type": "markdown",
   "metadata": {
    "id": "f3VmVYtng4r2"
   },
   "source": [
    "### MobileNet"
   ]
  },
  {
   "cell_type": "code",
   "execution_count": 8,
   "metadata": {
    "id": "l7op88gFau_D"
   },
   "outputs": [],
   "source": [
    "base_mobilenet_model = MobileNet(weights='imagenet', include_top=False, input_shape=(img_size, img_size, 3))"
   ]
  },
  {
   "cell_type": "code",
   "execution_count": 15,
   "metadata": {
    "scrolled": true
   },
   "outputs": [
    {
     "name": "stdout",
     "output_type": "stream",
     "text": [
      "Epoch 1/4\n",
      "474/474 [==============================] - 79s 161ms/step - loss: 0.1522 - accuracy: 0.9577 - val_loss: 0.0395 - val_accuracy: 0.9905\n",
      "Epoch 2/4\n",
      "474/474 [==============================] - 72s 152ms/step - loss: 0.0674 - accuracy: 0.9789 - val_loss: 0.0291 - val_accuracy: 0.9916\n",
      "Epoch 3/4\n",
      "474/474 [==============================] - 73s 154ms/step - loss: 0.0436 - accuracy: 0.9836 - val_loss: 0.0224 - val_accuracy: 0.9926\n",
      "Epoch 4/4\n",
      "474/474 [==============================] - 72s 152ms/step - loss: 0.0344 - accuracy: 0.9876 - val_loss: 0.0186 - val_accuracy: 0.9937\n",
      "37/37 [==============================] - 9s 221ms/step\n",
      "Epoch 1/4\n",
      "474/474 [==============================] - 76s 159ms/step - loss: 0.0555 - accuracy: 0.9855 - val_loss: 0.0023 - val_accuracy: 1.0000\n",
      "Epoch 2/4\n",
      "474/474 [==============================] - 74s 156ms/step - loss: 0.0328 - accuracy: 0.9892 - val_loss: 0.0037 - val_accuracy: 0.9989\n",
      "Epoch 3/4\n",
      "474/474 [==============================] - 74s 156ms/step - loss: 0.0595 - accuracy: 0.9844 - val_loss: 0.0058 - val_accuracy: 0.9979\n",
      "Epoch 4/4\n",
      "474/474 [==============================] - 73s 155ms/step - loss: 0.0455 - accuracy: 0.9886 - val_loss: 0.0130 - val_accuracy: 0.9958\n",
      "37/37 [==============================] - 8s 208ms/step\n",
      "Epoch 1/4\n",
      "474/474 [==============================] - 79s 163ms/step - loss: 0.0530 - accuracy: 0.9823 - val_loss: 0.0014 - val_accuracy: 1.0000\n",
      "Epoch 2/4\n",
      "474/474 [==============================] - 74s 156ms/step - loss: 0.0243 - accuracy: 0.9931 - val_loss: 0.0010 - val_accuracy: 1.0000\n",
      "Epoch 3/4\n",
      "474/474 [==============================] - 74s 156ms/step - loss: 0.0381 - accuracy: 0.9915 - val_loss: 7.1452e-04 - val_accuracy: 1.0000\n",
      "Epoch 4/4\n",
      "474/474 [==============================] - 75s 157ms/step - loss: 0.0477 - accuracy: 0.9900 - val_loss: 8.1094e-04 - val_accuracy: 1.0000\n",
      "37/37 [==============================] - 9s 224ms/step\n",
      "Epoch 1/4\n",
      "474/474 [==============================] - 76s 155ms/step - loss: 0.0263 - accuracy: 0.9929 - val_loss: 1.3092e-04 - val_accuracy: 1.0000\n",
      "Epoch 2/4\n",
      "474/474 [==============================] - 72s 151ms/step - loss: 0.0336 - accuracy: 0.9926 - val_loss: 3.1430e-04 - val_accuracy: 1.0000\n",
      "Epoch 3/4\n",
      "474/474 [==============================] - 72s 151ms/step - loss: 0.0235 - accuracy: 0.9926 - val_loss: 3.9400e-04 - val_accuracy: 1.0000\n",
      "Epoch 4/4\n",
      "474/474 [==============================] - 72s 151ms/step - loss: 0.0182 - accuracy: 0.9945 - val_loss: 1.8801e-04 - val_accuracy: 1.0000\n",
      "37/37 [==============================] - 8s 202ms/step\n",
      "Epoch 1/4\n",
      "474/474 [==============================] - 75s 156ms/step - loss: 0.0183 - accuracy: 0.9955 - val_loss: 9.1500e-05 - val_accuracy: 1.0000\n",
      "Epoch 2/4\n",
      "474/474 [==============================] - 71s 151ms/step - loss: 0.0104 - accuracy: 0.9958 - val_loss: 8.6870e-05 - val_accuracy: 1.0000\n",
      "Epoch 3/4\n",
      "474/474 [==============================] - 73s 153ms/step - loss: 0.0431 - accuracy: 0.9905 - val_loss: 6.7774e-05 - val_accuracy: 1.0000\n",
      "Epoch 4/4\n",
      "474/474 [==============================] - 73s 153ms/step - loss: 0.0286 - accuracy: 0.9931 - val_loss: 1.1896e-04 - val_accuracy: 1.0000\n",
      "37/37 [==============================] - 8s 214ms/step\n",
      "Average zero-one loss across 5 folds: 0.0023648648648648906\n",
      "Average accuracy across 5 folds: 0.998046463727951\n"
     ]
    }
   ],
   "source": [
    "mobilenet_loss_1, mobilenet_accuracy_1 = train_and_evaluate_model(create_model(base_mobilenet_model, 1024, 'relu'), learning_rate=0.001, epochs=4, batch_size=8)"
   ]
  },
  {
   "cell_type": "code",
   "execution_count": 9,
   "metadata": {},
   "outputs": [
    {
     "name": "stdout",
     "output_type": "stream",
     "text": [
      "Epoch 1/8\n",
      "237/237 [==============================] - 40s 161ms/step - loss: 0.0912 - accuracy: 0.9765 - val_loss: 0.0522 - val_accuracy: 0.9884\n",
      "Epoch 2/8\n",
      "237/237 [==============================] - 38s 162ms/step - loss: 0.0541 - accuracy: 0.9839 - val_loss: 0.0334 - val_accuracy: 0.9947\n",
      "Epoch 3/8\n",
      "237/237 [==============================] - 39s 166ms/step - loss: 0.0164 - accuracy: 0.9947 - val_loss: 0.0287 - val_accuracy: 0.9926\n",
      "Epoch 4/8\n",
      "237/237 [==============================] - 39s 163ms/step - loss: 0.0189 - accuracy: 0.9950 - val_loss: 0.0394 - val_accuracy: 0.9905\n",
      "Epoch 5/8\n",
      "237/237 [==============================] - 38s 162ms/step - loss: 0.0081 - accuracy: 0.9963 - val_loss: 0.0303 - val_accuracy: 0.9947\n",
      "Epoch 6/8\n",
      "237/237 [==============================] - 39s 163ms/step - loss: 0.0056 - accuracy: 0.9987 - val_loss: 0.0306 - val_accuracy: 0.9937\n",
      "Epoch 7/8\n",
      "237/237 [==============================] - 38s 162ms/step - loss: 0.0082 - accuracy: 0.9960 - val_loss: 0.0395 - val_accuracy: 0.9916\n",
      "Epoch 8/8\n",
      "237/237 [==============================] - 39s 163ms/step - loss: 0.0141 - accuracy: 0.9960 - val_loss: 0.0509 - val_accuracy: 0.9916\n",
      "37/37 [==============================] - 7s 189ms/step\n",
      "Epoch 1/8\n",
      "237/237 [==============================] - 40s 163ms/step - loss: 0.0311 - accuracy: 0.9931 - val_loss: 0.0029 - val_accuracy: 0.9989\n",
      "Epoch 2/8\n",
      "237/237 [==============================] - 38s 160ms/step - loss: 0.0145 - accuracy: 0.9952 - val_loss: 1.3246e-04 - val_accuracy: 1.0000\n",
      "Epoch 3/8\n",
      "237/237 [==============================] - 38s 160ms/step - loss: 0.0178 - accuracy: 0.9955 - val_loss: 3.5683e-04 - val_accuracy: 1.0000\n",
      "Epoch 4/8\n",
      "237/237 [==============================] - 39s 167ms/step - loss: 0.0077 - accuracy: 0.9974 - val_loss: 0.0021 - val_accuracy: 0.9989\n",
      "Epoch 5/8\n",
      "237/237 [==============================] - 38s 160ms/step - loss: 0.0057 - accuracy: 0.9982 - val_loss: 0.0032 - val_accuracy: 0.9989\n",
      "Epoch 6/8\n",
      "237/237 [==============================] - 38s 161ms/step - loss: 0.0067 - accuracy: 0.9974 - val_loss: 0.0032 - val_accuracy: 0.9989\n",
      "Epoch 7/8\n",
      "237/237 [==============================] - 38s 162ms/step - loss: 0.0180 - accuracy: 0.9939 - val_loss: 0.0034 - val_accuracy: 0.9989\n",
      "Epoch 8/8\n",
      "237/237 [==============================] - 38s 160ms/step - loss: 0.0069 - accuracy: 0.9966 - val_loss: 0.0053 - val_accuracy: 0.9989\n",
      "37/37 [==============================] - 7s 193ms/step\n",
      "Epoch 1/8\n",
      "237/237 [==============================] - 41s 167ms/step - loss: 0.0093 - accuracy: 0.9966 - val_loss: 1.1701e-04 - val_accuracy: 1.0000\n",
      "Epoch 2/8\n",
      "237/237 [==============================] - 39s 164ms/step - loss: 0.0076 - accuracy: 0.9971 - val_loss: 2.5857e-04 - val_accuracy: 1.0000\n",
      "Epoch 3/8\n",
      "237/237 [==============================] - 39s 164ms/step - loss: 0.0036 - accuracy: 0.9989 - val_loss: 5.4273e-05 - val_accuracy: 1.0000\n",
      "Epoch 4/8\n",
      "237/237 [==============================] - 39s 162ms/step - loss: 0.0054 - accuracy: 0.9982 - val_loss: 2.1570e-04 - val_accuracy: 1.0000\n",
      "Epoch 5/8\n",
      "237/237 [==============================] - 39s 163ms/step - loss: 0.0059 - accuracy: 0.9979 - val_loss: 1.0984e-04 - val_accuracy: 1.0000\n",
      "Epoch 6/8\n",
      "237/237 [==============================] - 39s 163ms/step - loss: 0.0052 - accuracy: 0.9979 - val_loss: 2.1527e-04 - val_accuracy: 1.0000\n",
      "Epoch 7/8\n",
      "237/237 [==============================] - 39s 163ms/step - loss: 0.0072 - accuracy: 0.9968 - val_loss: 8.1052e-04 - val_accuracy: 1.0000\n",
      "Epoch 8/8\n",
      "237/237 [==============================] - 39s 163ms/step - loss: 0.0067 - accuracy: 0.9976 - val_loss: 6.5409e-04 - val_accuracy: 1.0000\n",
      "37/37 [==============================] - 8s 196ms/step\n",
      "Epoch 1/8\n",
      "237/237 [==============================] - 41s 170ms/step - loss: 0.0101 - accuracy: 0.9955 - val_loss: 2.5523e-04 - val_accuracy: 1.0000\n",
      "Epoch 2/8\n",
      "237/237 [==============================] - 39s 166ms/step - loss: 0.0061 - accuracy: 0.9984 - val_loss: 3.7536e-05 - val_accuracy: 1.0000\n",
      "Epoch 3/8\n",
      "237/237 [==============================] - 38s 162ms/step - loss: 0.0055 - accuracy: 0.9984 - val_loss: 3.5568e-05 - val_accuracy: 1.0000\n",
      "Epoch 4/8\n",
      "237/237 [==============================] - 38s 161ms/step - loss: 0.0062 - accuracy: 0.9976 - val_loss: 4.2347e-05 - val_accuracy: 1.0000\n",
      "Epoch 5/8\n",
      "237/237 [==============================] - 38s 161ms/step - loss: 0.0072 - accuracy: 0.9979 - val_loss: 2.4413e-04 - val_accuracy: 1.0000\n",
      "Epoch 6/8\n",
      "237/237 [==============================] - 38s 162ms/step - loss: 0.0039 - accuracy: 0.9984 - val_loss: 1.4853e-04 - val_accuracy: 1.0000\n",
      "Epoch 7/8\n",
      "237/237 [==============================] - 38s 161ms/step - loss: 0.0044 - accuracy: 0.9982 - val_loss: 5.7281e-05 - val_accuracy: 1.0000\n",
      "Epoch 8/8\n",
      "237/237 [==============================] - 38s 161ms/step - loss: 0.0023 - accuracy: 0.9989 - val_loss: 7.5276e-05 - val_accuracy: 1.0000\n",
      "37/37 [==============================] - 8s 199ms/step\n",
      "Epoch 1/8\n",
      "237/237 [==============================] - 43s 177ms/step - loss: 0.0022 - accuracy: 0.9992 - val_loss: 2.6732e-04 - val_accuracy: 1.0000\n",
      "Epoch 2/8\n",
      "237/237 [==============================] - 40s 171ms/step - loss: 0.0028 - accuracy: 0.9992 - val_loss: 6.7511e-05 - val_accuracy: 1.0000\n",
      "Epoch 3/8\n",
      "237/237 [==============================] - 39s 166ms/step - loss: 0.0020 - accuracy: 0.9989 - val_loss: 1.4740e-05 - val_accuracy: 1.0000\n",
      "Epoch 4/8\n",
      "237/237 [==============================] - 37s 157ms/step - loss: 0.0055 - accuracy: 0.9979 - val_loss: 1.4005e-05 - val_accuracy: 1.0000\n",
      "Epoch 5/8\n",
      "237/237 [==============================] - 37s 156ms/step - loss: 0.0047 - accuracy: 0.9989 - val_loss: 3.2225e-05 - val_accuracy: 1.0000\n",
      "Epoch 6/8\n",
      "237/237 [==============================] - 37s 157ms/step - loss: 0.0028 - accuracy: 0.9989 - val_loss: 1.5719e-05 - val_accuracy: 1.0000\n",
      "Epoch 7/8\n",
      "237/237 [==============================] - 37s 157ms/step - loss: 0.0028 - accuracy: 0.9987 - val_loss: 2.6675e-05 - val_accuracy: 1.0000\n",
      "Epoch 8/8\n",
      "237/237 [==============================] - 37s 157ms/step - loss: 0.0027 - accuracy: 0.9992 - val_loss: 3.3674e-05 - val_accuracy: 1.0000\n",
      "37/37 [==============================] - 8s 194ms/step\n",
      "Average zero-one loss across 5 folds: 0.002702702702702697\n",
      "Average accuracy across 5 folds: 0.9982840567827225\n"
     ]
    }
   ],
   "source": [
    "mobilenet_loss_2, mobilenet_accuracy_2 = train_and_evaluate_model(create_model(base_mobilenet_model, 512, 'tanh'), learning_rate=0.0001, epochs=8, batch_size=16)"
   ]
  },
  {
   "cell_type": "code",
   "execution_count": 10,
   "metadata": {},
   "outputs": [],
   "source": [
    "best_mobilenet_accuracy = max(mobilenet_accuracy_1, mobilenet_accuracy_2)\n",
    "best_mobilenet_loss = min(mobilenet_loss_1, mobilenet_loss_2)"
   ]
  },
  {
   "cell_type": "markdown",
   "metadata": {
    "id": "C4VX3pAVg684"
   },
   "source": [
    "### ResNet50"
   ]
  },
  {
   "cell_type": "code",
   "execution_count": 11,
   "metadata": {
    "id": "-_7gcdCTa2dn"
   },
   "outputs": [],
   "source": [
    "base_resnet_model = ResNet50(weights='imagenet', include_top=False, input_shape=(img_size, img_size, 3))"
   ]
  },
  {
   "cell_type": "code",
   "execution_count": 12,
   "metadata": {
    "scrolled": true
   },
   "outputs": [
    {
     "name": "stdout",
     "output_type": "stream",
     "text": [
      "Epoch 1/4\n",
      "474/474 [==============================] - 224s 468ms/step - loss: 0.5312 - accuracy: 0.7750 - val_loss: 0.7045 - val_accuracy: 0.7075\n",
      "Epoch 2/4\n",
      "474/474 [==============================] - 224s 472ms/step - loss: 0.3873 - accuracy: 0.8310 - val_loss: 0.5319 - val_accuracy: 0.7614\n",
      "Epoch 3/4\n",
      "474/474 [==============================] - 223s 471ms/step - loss: 0.3319 - accuracy: 0.8616 - val_loss: 0.3886 - val_accuracy: 0.8237\n",
      "Epoch 4/4\n",
      "474/474 [==============================] - 222s 469ms/step - loss: 0.3219 - accuracy: 0.8637 - val_loss: 0.3702 - val_accuracy: 0.8458\n",
      "37/37 [==============================] - 34s 902ms/step\n",
      "Epoch 1/4\n",
      "474/474 [==============================] - 223s 466ms/step - loss: 0.3754 - accuracy: 0.8347 - val_loss: 0.2176 - val_accuracy: 0.9166\n",
      "Epoch 2/4\n",
      "474/474 [==============================] - 223s 472ms/step - loss: 0.3191 - accuracy: 0.8613 - val_loss: 1.8995 - val_accuracy: 0.5502\n",
      "Epoch 3/4\n",
      "474/474 [==============================] - 222s 469ms/step - loss: 0.2969 - accuracy: 0.8785 - val_loss: 0.8915 - val_accuracy: 0.7191\n",
      "Epoch 4/4\n",
      "474/474 [==============================] - 223s 471ms/step - loss: 0.2648 - accuracy: 0.8920 - val_loss: 0.3017 - val_accuracy: 0.8722\n",
      "37/37 [==============================] - 35s 919ms/step\n",
      "Epoch 1/4\n",
      "474/474 [==============================] - 228s 475ms/step - loss: 0.2612 - accuracy: 0.8936 - val_loss: 1.0340 - val_accuracy: 0.6346\n",
      "Epoch 2/4\n",
      "474/474 [==============================] - 228s 481ms/step - loss: 0.2366 - accuracy: 0.9007 - val_loss: 0.4833 - val_accuracy: 0.8078\n",
      "Epoch 3/4\n",
      "474/474 [==============================] - 230s 485ms/step - loss: 0.2253 - accuracy: 0.9115 - val_loss: 0.2332 - val_accuracy: 0.9071\n",
      "Epoch 4/4\n",
      "474/474 [==============================] - 241s 508ms/step - loss: 0.2140 - accuracy: 0.9184 - val_loss: 0.4348 - val_accuracy: 0.7920\n",
      "37/37 [==============================] - 36s 955ms/step\n",
      "Epoch 1/4\n",
      "474/474 [==============================] - 236s 487ms/step - loss: 0.2236 - accuracy: 0.9113 - val_loss: 0.2925 - val_accuracy: 0.8700\n",
      "Epoch 2/4\n",
      "474/474 [==============================] - 228s 482ms/step - loss: 0.2013 - accuracy: 0.9168 - val_loss: 0.3905 - val_accuracy: 0.8393\n",
      "Epoch 3/4\n",
      "474/474 [==============================] - 226s 477ms/step - loss: 0.1981 - accuracy: 0.9240 - val_loss: 0.3844 - val_accuracy: 0.8192\n",
      "Epoch 4/4\n",
      "474/474 [==============================] - 230s 484ms/step - loss: 0.1870 - accuracy: 0.9232 - val_loss: 0.2504 - val_accuracy: 0.8901\n",
      "37/37 [==============================] - 37s 970ms/step\n",
      "Epoch 1/4\n",
      "474/474 [==============================] - 231s 480ms/step - loss: 0.1946 - accuracy: 0.9234 - val_loss: 0.2801 - val_accuracy: 0.8700\n",
      "Epoch 2/4\n",
      "474/474 [==============================] - 228s 482ms/step - loss: 0.1851 - accuracy: 0.9308 - val_loss: 0.1116 - val_accuracy: 0.9619\n",
      "Epoch 3/4\n",
      "474/474 [==============================] - 232s 491ms/step - loss: 0.1776 - accuracy: 0.9306 - val_loss: 0.2486 - val_accuracy: 0.8742\n",
      "Epoch 4/4\n",
      "474/474 [==============================] - 230s 486ms/step - loss: 0.1529 - accuracy: 0.9406 - val_loss: 0.2720 - val_accuracy: 0.8784\n",
      "37/37 [==============================] - 35s 937ms/step\n",
      "Average zero-one loss across 5 folds: 0.1783783783783784\n",
      "Average accuracy across 5 folds: 0.8170540183782578\n"
     ]
    }
   ],
   "source": [
    "resnet_loss_1, resnet_accuracy_1 = train_and_evaluate_model(create_model(base_resnet_model, 1024, 'relu'), learning_rate=0.001, epochs=4, batch_size=8)"
   ]
  },
  {
   "cell_type": "code",
   "execution_count": 13,
   "metadata": {},
   "outputs": [
    {
     "name": "stdout",
     "output_type": "stream",
     "text": [
      "Epoch 1/8\n",
      "237/237 [==============================] - 174s 709ms/step - loss: 0.4678 - accuracy: 0.8069 - val_loss: 0.4544 - val_accuracy: 0.7825\n",
      "Epoch 2/8\n",
      "237/237 [==============================] - 157s 663ms/step - loss: 0.3172 - accuracy: 0.8719 - val_loss: 0.3394 - val_accuracy: 0.8606\n",
      "Epoch 3/8\n",
      "237/237 [==============================] - 159s 670ms/step - loss: 0.2844 - accuracy: 0.8822 - val_loss: 2.1618 - val_accuracy: 0.4879\n",
      "Epoch 4/8\n",
      "237/237 [==============================] - 160s 674ms/step - loss: 0.2294 - accuracy: 0.9023 - val_loss: 0.3721 - val_accuracy: 0.8310\n",
      "Epoch 5/8\n",
      "237/237 [==============================] - 160s 675ms/step - loss: 0.2180 - accuracy: 0.9142 - val_loss: 1.3759 - val_accuracy: 0.6103\n",
      "Epoch 6/8\n",
      "237/237 [==============================] - 161s 679ms/step - loss: 0.1821 - accuracy: 0.9287 - val_loss: 5.0487 - val_accuracy: 0.4794\n",
      "Epoch 7/8\n",
      "237/237 [==============================] - 160s 675ms/step - loss: 0.1644 - accuracy: 0.9382 - val_loss: 0.3476 - val_accuracy: 0.8405\n",
      "Epoch 8/8\n",
      "237/237 [==============================] - 157s 664ms/step - loss: 0.1448 - accuracy: 0.9474 - val_loss: 2.0152 - val_accuracy: 0.5132\n",
      "37/37 [==============================] - 34s 905ms/step\n",
      "Epoch 1/8\n",
      "237/237 [==============================] - 159s 662ms/step - loss: 0.2256 - accuracy: 0.9046 - val_loss: 0.2294 - val_accuracy: 0.9113\n",
      "Epoch 2/8\n",
      "237/237 [==============================] - 156s 659ms/step - loss: 0.1725 - accuracy: 0.9329 - val_loss: 0.5712 - val_accuracy: 0.7445\n",
      "Epoch 3/8\n",
      "237/237 [==============================] - 157s 663ms/step - loss: 0.1704 - accuracy: 0.9353 - val_loss: 1.1441 - val_accuracy: 0.5713\n",
      "Epoch 4/8\n",
      "237/237 [==============================] - 158s 666ms/step - loss: 0.1489 - accuracy: 0.9461 - val_loss: 0.2502 - val_accuracy: 0.8817\n",
      "Epoch 5/8\n",
      "237/237 [==============================] - 157s 665ms/step - loss: 0.1238 - accuracy: 0.9532 - val_loss: 0.2458 - val_accuracy: 0.8881\n",
      "Epoch 6/8\n",
      "237/237 [==============================] - 155s 653ms/step - loss: 0.1310 - accuracy: 0.9522 - val_loss: 0.4237 - val_accuracy: 0.7846\n",
      "Epoch 7/8\n",
      "237/237 [==============================] - 157s 663ms/step - loss: 0.1120 - accuracy: 0.9604 - val_loss: 0.1634 - val_accuracy: 0.9419\n",
      "Epoch 8/8\n",
      "237/237 [==============================] - 156s 657ms/step - loss: 0.1155 - accuracy: 0.9564 - val_loss: 0.9553 - val_accuracy: 0.6336\n",
      "37/37 [==============================] - 35s 925ms/step\n",
      "Epoch 1/8\n",
      "237/237 [==============================] - 163s 669ms/step - loss: 0.1281 - accuracy: 0.9514 - val_loss: 0.1575 - val_accuracy: 0.9388\n",
      "Epoch 2/8\n",
      "237/237 [==============================] - 160s 674ms/step - loss: 0.1214 - accuracy: 0.9540 - val_loss: 0.1556 - val_accuracy: 0.9461\n",
      "Epoch 3/8\n",
      "237/237 [==============================] - 159s 672ms/step - loss: 0.1139 - accuracy: 0.9559 - val_loss: 0.2434 - val_accuracy: 0.8933\n",
      "Epoch 4/8\n",
      "237/237 [==============================] - 161s 681ms/step - loss: 0.1138 - accuracy: 0.9583 - val_loss: 0.3232 - val_accuracy: 0.8596\n",
      "Epoch 5/8\n",
      "237/237 [==============================] - 166s 702ms/step - loss: 0.0825 - accuracy: 0.9704 - val_loss: 0.3825 - val_accuracy: 0.8247\n",
      "Epoch 6/8\n",
      "237/237 [==============================] - 161s 682ms/step - loss: 0.0783 - accuracy: 0.9712 - val_loss: 0.1537 - val_accuracy: 0.9366\n",
      "Epoch 7/8\n",
      "237/237 [==============================] - 160s 677ms/step - loss: 0.0824 - accuracy: 0.9715 - val_loss: 0.1232 - val_accuracy: 0.9546\n",
      "Epoch 8/8\n",
      "237/237 [==============================] - 160s 677ms/step - loss: 0.0894 - accuracy: 0.9680 - val_loss: 0.1095 - val_accuracy: 0.9662\n",
      "37/37 [==============================] - 35s 917ms/step\n",
      "Epoch 1/8\n",
      "237/237 [==============================] - 161s 670ms/step - loss: 0.1052 - accuracy: 0.9585 - val_loss: 1.0461 - val_accuracy: 0.6755\n",
      "Epoch 2/8\n",
      "237/237 [==============================] - 160s 675ms/step - loss: 0.1063 - accuracy: 0.9617 - val_loss: 0.3199 - val_accuracy: 0.8531\n",
      "Epoch 3/8\n",
      "237/237 [==============================] - 159s 671ms/step - loss: 0.0879 - accuracy: 0.9659 - val_loss: 0.0997 - val_accuracy: 0.9672\n",
      "Epoch 4/8\n",
      "237/237 [==============================] - 158s 667ms/step - loss: 0.0870 - accuracy: 0.9710 - val_loss: 0.7974 - val_accuracy: 0.7061\n",
      "Epoch 5/8\n",
      "237/237 [==============================] - 158s 669ms/step - loss: 0.0795 - accuracy: 0.9707 - val_loss: 0.0911 - val_accuracy: 0.9672\n",
      "Epoch 6/8\n",
      "237/237 [==============================] - 158s 665ms/step - loss: 0.0683 - accuracy: 0.9786 - val_loss: 0.1952 - val_accuracy: 0.9070\n",
      "Epoch 7/8\n",
      "237/237 [==============================] - 159s 670ms/step - loss: 0.0623 - accuracy: 0.9810 - val_loss: 5.7437 - val_accuracy: 0.5444\n",
      "Epoch 8/8\n",
      "237/237 [==============================] - 156s 658ms/step - loss: 0.0788 - accuracy: 0.9688 - val_loss: 0.5250 - val_accuracy: 0.7801\n",
      "37/37 [==============================] - 33s 881ms/step\n",
      "Epoch 1/8\n",
      "237/237 [==============================] - 163s 665ms/step - loss: 0.0665 - accuracy: 0.9786 - val_loss: 1.8737 - val_accuracy: 0.5835\n",
      "Epoch 2/8\n",
      "237/237 [==============================] - 158s 667ms/step - loss: 0.0704 - accuracy: 0.9752 - val_loss: 0.4050 - val_accuracy: 0.8256\n",
      "Epoch 3/8\n",
      "237/237 [==============================] - 156s 660ms/step - loss: 0.0595 - accuracy: 0.9802 - val_loss: 1.2744 - val_accuracy: 0.6512\n",
      "Epoch 4/8\n",
      "237/237 [==============================] - 157s 661ms/step - loss: 0.0428 - accuracy: 0.9863 - val_loss: 0.0583 - val_accuracy: 0.9767\n",
      "Epoch 5/8\n",
      "237/237 [==============================] - 157s 663ms/step - loss: 0.0575 - accuracy: 0.9791 - val_loss: 1.0218 - val_accuracy: 0.6660\n",
      "Epoch 6/8\n",
      "237/237 [==============================] - 155s 655ms/step - loss: 0.0586 - accuracy: 0.9789 - val_loss: 0.1406 - val_accuracy: 0.9387\n",
      "Epoch 7/8\n",
      "237/237 [==============================] - 155s 653ms/step - loss: 0.0597 - accuracy: 0.9805 - val_loss: 0.4400 - val_accuracy: 0.8129\n",
      "Epoch 8/8\n",
      "237/237 [==============================] - 156s 659ms/step - loss: 0.0539 - accuracy: 0.9839 - val_loss: 0.0527 - val_accuracy: 0.9841\n",
      "37/37 [==============================] - 35s 923ms/step\n",
      "Average zero-one loss across 5 folds: 0.27635135135135136\n",
      "Average accuracy across 5 folds: 0.7980422221124173\n"
     ]
    }
   ],
   "source": [
    "resnet_loss_2, resnet_accuracy_2 = train_and_evaluate_model(create_model(base_resnet_model, 512, 'tanh'), learning_rate=0.0001, epochs=8, batch_size=16)"
   ]
  },
  {
   "cell_type": "code",
   "execution_count": 14,
   "metadata": {},
   "outputs": [],
   "source": [
    "best_resnet_accuracy = max(resnet_accuracy_1, resnet_accuracy_2)\n",
    "best_resnet_loss = min(resnet_loss_1, resnet_loss_2)"
   ]
  },
  {
   "cell_type": "markdown",
   "metadata": {},
   "source": [
    "## Results"
   ]
  },
  {
   "cell_type": "code",
   "execution_count": 32,
   "metadata": {},
   "outputs": [
    {
     "name": "stdout",
     "output_type": "stream",
     "text": [
      "  Architecture  Learning Rate  Epochs  Batch Size Activation Function  \\\n",
      "0   Custom CNN         0.0010       4           8                ReLU   \n",
      "1        VGG16         0.0010       4           8                ReLU   \n",
      "2    Mobilenet         0.0010       4           8                ReLU   \n",
      "3       ResNet         0.0010       4           8                ReLU   \n",
      "4   Custom CNN         0.0001       8          16                tanh   \n",
      "5        VGG16         0.0001       8          16                tanh   \n",
      "6    Mobilenet         0.0001       8          16                tanh   \n",
      "7       ResNet         0.0001       8          16                tanh   \n",
      "\n",
      "   Number of Neurons  Accuracy      Loss  \n",
      "0               1024  0.529900  0.477872  \n",
      "1               1024  0.991869  0.023649  \n",
      "2               1024  0.998046  0.002365  \n",
      "3               1024  0.817054  0.178378  \n",
      "4                512  0.522950  0.486486  \n",
      "5                512  0.994852  0.021115  \n",
      "6                512  0.998284  0.002703  \n",
      "7                512  0.798042  0.276351  \n"
     ]
    }
   ],
   "source": [
    "data = {\n",
    "    \"Architecture\": [\"Custom CNN\", \"VGG16\", \"Mobilenet\", \"ResNet\"] * 2,\n",
    "    \"Learning Rate\": [0.001] * 4 + [0.0001] * 4,\n",
    "    \"Epochs\": [4] * 4 + [8] * 4,\n",
    "    \"Batch Size\": [8] * 4 + [16] * 4,\n",
    "    \"Activation Function\": [\"ReLU\"] * 4 + [\"tanh\"] * 4,\n",
    "    \"Number of Neurons\": [1024] * 4 + [512] * 4,\n",
    "    \"Accuracy\": [cnn_accuracy_1, vgg_accuracy_1, mobilenet_accuracy_1, resnet_accuracy_1, cnn_accuracy_2, vgg_accuracy_2, mobilenet_accuracy_2, resnet_accuracy_2],\n",
    "    \"Loss\": [cnn_loss_1, vgg_loss_1, mobilenet_loss_1, resnet_loss_1, cnn_loss_2, vgg_loss_2, mobilenet_loss_2, resnet_loss_2], \n",
    "}\n",
    "\n",
    "df = pd.DataFrame(data)\n",
    "print(df) "
   ]
  },
  {
   "cell_type": "code",
   "execution_count": 20,
   "metadata": {},
   "outputs": [
    {
     "name": "stdout",
     "output_type": "stream",
     "text": [
      "Best custom CNN accuracy: 0.5298998013138772\n",
      "Best VGG accuracy: 0.9948520511388779\n",
      "Best MobileNet accuracy: 0.9982840567827225\n",
      "Best ResNet accuracy: 0.8170540183782578\n"
     ]
    }
   ],
   "source": [
    "print(f\"Best custom CNN accuracy: {best_cnn_accuracy}\\nBest VGG accuracy: {best_vgg_accuracy}\\nBest MobileNet accuracy: {best_mobilenet_accuracy}\\nBest ResNet accuracy: {best_resnet_accuracy}\")"
   ]
  },
  {
   "cell_type": "code",
   "execution_count": 21,
   "metadata": {},
   "outputs": [
    {
     "name": "stdout",
     "output_type": "stream",
     "text": [
      "Best custom CNN loss: 0.47787162162162156\n",
      "Best VGG loss: 0.021114864864864892\n",
      "Best MobileNet loss: 0.0023648648648648906\n",
      "Best ResNet loss: 0.1783783783783784\n"
     ]
    }
   ],
   "source": [
    "print(f\"Best custom CNN loss: {best_cnn_loss}\\nBest VGG loss: {best_vgg_loss}\\nBest MobileNet loss: {best_mobilenet_loss}\\nBest ResNet loss: {best_resnet_loss}\")"
   ]
  },
  {
   "cell_type": "code",
   "execution_count": 22,
   "metadata": {},
   "outputs": [
    {
     "name": "stdout",
     "output_type": "stream",
     "text": [
      "Best accuracy: 0.9982840567827225 from MobileNet\n",
      "Best loss: 0.0023648648648648906 from MobileNet\n"
     ]
    }
   ],
   "source": [
    "best_accuracy = max(best_vgg_accuracy, best_mobilenet_accuracy, best_resnet_accuracy)\n",
    "best_loss = min(best_vgg_loss, best_mobilenet_loss, best_resnet_loss)\n",
    "\n",
    "# Define the architecture names\n",
    "architecture_names = ['VGG', 'MobileNet', 'ResNet']\n",
    "\n",
    "# Initialize variables to store the best accuracy and loss\n",
    "best_accuracy = 0.0\n",
    "best_loss = float('inf')\n",
    "best_accuracy_architecture = ''\n",
    "best_loss_architecture = ''\n",
    "\n",
    "# Iterate over the architectures\n",
    "for i, architecture in enumerate([best_vgg_accuracy, best_mobilenet_accuracy, best_resnet_accuracy]):\n",
    "    # Check if the current architecture has the best accuracy\n",
    "    if architecture > best_accuracy:\n",
    "        best_accuracy = architecture\n",
    "        best_accuracy_architecture = architecture_names[i]\n",
    "        \n",
    "for i, architecture_loss in enumerate([best_vgg_loss, best_mobilenet_loss, best_resnet_loss]):\n",
    "    # Check if the current architecture has the best loss\n",
    "    if architecture_loss < best_loss:\n",
    "        best_loss = architecture_loss\n",
    "        best_loss_architecture = architecture_names[i]\n",
    "\n",
    "# Print the architecture with the best accuracy and best loss\n",
    "print(f\"Best accuracy: {best_accuracy} from {best_accuracy_architecture}\")\n",
    "print(f\"Best loss: {best_loss} from {best_loss_architecture}\")"
   ]
  }
 ],
 "metadata": {
  "colab": {
   "provenance": [],
   "toc_visible": true
  },
  "kernelspec": {
   "display_name": "Python 3 (ipykernel)",
   "language": "python",
   "name": "python3"
  },
  "language_info": {
   "codemirror_mode": {
    "name": "ipython",
    "version": 3
   },
   "file_extension": ".py",
   "mimetype": "text/x-python",
   "name": "python",
   "nbconvert_exporter": "python",
   "pygments_lexer": "ipython3",
   "version": "3.9.16"
  }
 },
 "nbformat": 4,
 "nbformat_minor": 1
}
